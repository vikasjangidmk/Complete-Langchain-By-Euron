{
 "cells": [
  {
   "cell_type": "markdown",
   "id": "690cc698",
   "metadata": {},
   "source": [
    "# **Memory For Smart RAG System == Combined Memory**"
   ]
  },
  {
   "cell_type": "code",
   "execution_count": 1,
   "id": "2ce45cbf",
   "metadata": {},
   "outputs": [],
   "source": [
    "import os\n",
    "from dotenv import load_dotenv\n",
    "# Load environment variables from .env file\n",
    "load_dotenv()\n",
    "# Get the value of the environment variable\n",
    "openai_api_key = os.getenv(\"OPENAI_API_KEY\")"
   ]
  },
  {
   "cell_type": "code",
   "execution_count": 2,
   "id": "16a4e16c",
   "metadata": {},
   "outputs": [],
   "source": [
    "from langchain_openai import ChatOpenAI\n",
    "from langchain.prompts import PromptTemplate\n",
    "from langchain_core.output_parsers import StrOutputParser\n"
   ]
  },
  {
   "cell_type": "code",
   "execution_count": 3,
   "id": "8faa1f36",
   "metadata": {},
   "outputs": [],
   "source": [
    "from langchain.memory import (ConversationBufferMemory, \n",
    "                              ConversationSummaryMemory,\n",
    "                              CombinedMemory)"
   ]
  },
  {
   "cell_type": "code",
   "execution_count": 4,
   "id": "7c2833ec",
   "metadata": {},
   "outputs": [],
   "source": [
    "llm = ChatOpenAI(temperature=0.7)"
   ]
  },
  {
   "cell_type": "code",
   "execution_count": 5,
   "id": "9a0365ab",
   "metadata": {},
   "outputs": [
    {
     "name": "stderr",
     "output_type": "stream",
     "text": [
      "C:\\Users\\vikas\\AppData\\Local\\Temp\\ipykernel_29356\\3373453380.py:1: LangChainDeprecationWarning: Please see the migration guide at: https://python.langchain.com/docs/versions/migrating_memory/\n",
      "  buffer_memory = ConversationBufferMemory(memory_key=\"buffer_history\", return_messages=True)\n",
      "C:\\Users\\vikas\\AppData\\Local\\Temp\\ipykernel_29356\\3373453380.py:3: LangChainDeprecationWarning: Please see the migration guide at: https://python.langchain.com/docs/versions/migrating_memory/\n",
      "  summary_memory = ConversationSummaryMemory(llm=llm,\n"
     ]
    }
   ],
   "source": [
    "buffer_memory = ConversationBufferMemory(memory_key=\"buffer_history\", return_messages=True)\n",
    "\n",
    "summary_memory = ConversationSummaryMemory(llm=llm,\n",
    "                                            memory_key=\"summary_history\",\n",
    "                                            return_messages=True)"
   ]
  },
  {
   "cell_type": "code",
   "execution_count": 6,
   "id": "c07a681e",
   "metadata": {},
   "outputs": [
    {
     "name": "stderr",
     "output_type": "stream",
     "text": [
      "c:\\Users\\vikas\\OneDrive\\Desktop\\Complete-Langchain-By-Euron\\langchain\\lib\\site-packages\\langchain\\memory\\combined.py:40: UserWarning: When using CombinedMemory, input keys should be so the input is known.  Was not set on chat_memory=InMemoryChatMessageHistory(messages=[]) return_messages=True memory_key='buffer_history'\n",
      "  warnings.warn(\n",
      "c:\\Users\\vikas\\OneDrive\\Desktop\\Complete-Langchain-By-Euron\\langchain\\lib\\site-packages\\langchain\\memory\\combined.py:40: UserWarning: When using CombinedMemory, input keys should be so the input is known.  Was not set on llm=ChatOpenAI(client=<openai.resources.chat.completions.completions.Completions object at 0x000001E4620B88B0>, async_client=<openai.resources.chat.completions.completions.AsyncCompletions object at 0x000001E4620B8550>, root_client=<openai.OpenAI object at 0x000001E4620BBB20>, root_async_client=<openai.AsyncOpenAI object at 0x000001E4620BA9E0>, temperature=0.7, model_kwargs={}, openai_api_key=SecretStr('**********')) chat_memory=InMemoryChatMessageHistory(messages=[]) return_messages=True memory_key='summary_history'\n",
      "  warnings.warn(\n"
     ]
    }
   ],
   "source": [
    "combined_memory = CombinedMemory(\n",
    "    memories=[buffer_memory, summary_memory],\n",
    "    memory_key=\"combined_history\",\n",
    "    return_messages=True\n",
    ")"
   ]
  },
  {
   "cell_type": "code",
   "execution_count": 7,
   "id": "c20a8e05",
   "metadata": {},
   "outputs": [],
   "source": [
    "prompt = PromptTemplate(\n",
    "    input_variables= [\"buffer_history\", \"summary_history\", \"input\"],\n",
    "    template=\"\"\"\n",
    "You are a helpful assistant.\n",
    "\n",
    "Recent conversation:\n",
    "{buffer_history}\n",
    "\n",
    "Summary:\n",
    "{summary_history}\n",
    "\n",
    "Human: {input}\n",
    "AI:\n",
    "\"\"\"\n",
    ")"
   ]
  },
  {
   "cell_type": "code",
   "execution_count": 8,
   "id": "d8c4ea48",
   "metadata": {},
   "outputs": [],
   "source": [
    "def run_conversation(user_input : str):\n",
    "    memory_vars = combined_memory.load_memory_variables({\"inputs\": user_input})\n",
    "    \n",
    "    full_input = {\n",
    "        \"input\": user_input,\n",
    "        **memory_vars\n",
    "    }\n",
    "    \n",
    "    prompt_str = prompt.format(**full_input)\n",
    "    \n",
    "    response = llm.invoke(prompt_str)\n",
    "    \n",
    "    combined_memory.save_context({\"input\": user_input}, {\"output\": response.content})\n",
    "    return response.content"
   ]
  },
  {
   "cell_type": "code",
   "execution_count": 9,
   "id": "388ad7f8",
   "metadata": {},
   "outputs": [
    {
     "name": "stdout",
     "output_type": "stream",
     "text": [
      "Hello Vikas Jangid! I'm here to assist you. How can I help you today?\n",
      "That's great! How can I assist you with your work as an AI/ML engineer?\n",
      "That's great to know! Is there anything specific you would like assistance with or any questions you have related to being a 24-year-old AI/ML engineer?\n"
     ]
    }
   ],
   "source": [
    "print(run_conversation(\"Hello, how are you, My name is Vikas Jangid.\"))\n",
    "print(run_conversation(\"I am a AI/ML engineer?\"))\n",
    "print(run_conversation(\"I am 24 year old?\"))\n"
   ]
  },
  {
   "cell_type": "code",
   "execution_count": 10,
   "id": "fc07f5bf",
   "metadata": {},
   "outputs": [
    {
     "name": "stdout",
     "output_type": "stream",
     "text": [
      "You are Vikas Jangid, a 24-year-old AI/ML engineer.\n"
     ]
    }
   ],
   "source": [
    "print(run_conversation(\"Hello, tell me about myself?\"))"
   ]
  },
  {
   "cell_type": "code",
   "execution_count": 11,
   "id": "9b8ca6cb",
   "metadata": {},
   "outputs": [
    {
     "name": "stdout",
     "output_type": "stream",
     "text": [
      "The End\n"
     ]
    }
   ],
   "source": [
    "print(\"The End\")"
   ]
  }
 ],
 "metadata": {
  "kernelspec": {
   "display_name": "Python 3",
   "language": "python",
   "name": "python3"
  },
  "language_info": {
   "codemirror_mode": {
    "name": "ipython",
    "version": 3
   },
   "file_extension": ".py",
   "mimetype": "text/x-python",
   "name": "python",
   "nbconvert_exporter": "python",
   "pygments_lexer": "ipython3",
   "version": "3.10.17"
  }
 },
 "nbformat": 4,
 "nbformat_minor": 5
}
