{
 "cells": [
  {
   "cell_type": "markdown",
   "metadata": {},
   "source": [
    "# 🔖 Tagging\n",
    "Tagging refers to the process of assigning labels or tags to parts of text to classify or annotate them. This is typically done to prepare text for downstream processing or understanding."
   ]
  },
  {
   "cell_type": "code",
   "execution_count": 1,
   "metadata": {},
   "outputs": [],
   "source": [
    "import os\n",
    "import openai\n",
    "from dotenv import load_dotenv, find_dotenv\n",
    "_ = load_dotenv(find_dotenv())\n",
    "openai.api_key = os.environ['OPENAI_API_KEY']"
   ]
  },
  {
   "cell_type": "code",
   "execution_count": 10,
   "metadata": {},
   "outputs": [],
   "source": [
    "import os\n",
    "import openai\n",
    "from dotenv import load_dotenv\n",
    "from typing import List, Optional\n",
    "from langchain.chat_models import ChatOpenAI\n",
    "from langchain.prompts import ChatPromptTemplate\n",
    "from langchain.utils.openai_functions import convert_pydantic_to_openai_function\n",
    "from langchain.output_parsers.openai_functions import JsonOutputFunctionsParser\n",
    "\n",
    "from pydantic import BaseModel, Field \n",
    "\n",
    "from langchain.document_loaders import WebBaseLoader"
   ]
  },
  {
   "cell_type": "code",
   "execution_count": 11,
   "metadata": {},
   "outputs": [],
   "source": [
    "model = ChatOpenAI(temperature=0)"
   ]
  },
  {
   "cell_type": "code",
   "execution_count": 12,
   "metadata": {},
   "outputs": [],
   "source": [
    "class Tagging(BaseModel):\n",
    "    \"\"\"Tag the piece of text with sentiment and language.\"\"\"\n",
    "    sentiment: str = Field(description=\"sentiment of text: pos, neg, or neutral\")\n",
    "    language: str = Field(description=\"language (ISO 639-1 code like 'en', 'fr', 'it')\")\n",
    "\n"
   ]
  },
  {
   "cell_type": "code",
   "execution_count": 15,
   "metadata": {},
   "outputs": [],
   "source": [
    "tagging_fn = [convert_pydantic_to_openai_function(Tagging)]\n",
    "\n",
    "tagger_model = model.bind(functions=tagging_fn, function_call={\"name\": \"Tagging\"})"
   ]
  },
  {
   "cell_type": "code",
   "execution_count": 16,
   "metadata": {},
   "outputs": [],
   "source": [
    "prompt = ChatPromptTemplate.from_messages([\n",
    "    (\"system\", \"Tag the input by detecting sentiment and language.\"),\n",
    "    (\"user\", \"{input}\")\n",
    "])\n"
   ]
  },
  {
   "cell_type": "code",
   "execution_count": 17,
   "metadata": {},
   "outputs": [],
   "source": [
    "tagging_chain = prompt | tagger_model | JsonOutputFunctionsParser() "
   ]
  },
  {
   "cell_type": "code",
   "execution_count": 20,
   "metadata": {},
   "outputs": [
    {
     "data": {
      "text/plain": [
       "{'sentiment': 'neg', 'language': 'en'}"
      ]
     },
     "execution_count": 20,
     "metadata": {},
     "output_type": "execute_result"
    }
   ],
   "source": [
    "tagging_chain.invoke(input=\"I hate langchain framework \")"
   ]
  },
  {
   "cell_type": "markdown",
   "metadata": {},
   "source": [
    "## 📥 Extraction\n",
    "Extraction means pulling specific structured information from unstructured or semi-structured text. This helps in converting free-form language into a machine-usable format."
   ]
  },
  {
   "cell_type": "code",
   "execution_count": 21,
   "metadata": {},
   "outputs": [],
   "source": [
    "class Person(BaseModel):\n",
    "    name: str\n",
    "    age: Optional[int] = None"
   ]
  },
  {
   "cell_type": "code",
   "execution_count": 23,
   "metadata": {},
   "outputs": [],
   "source": [
    "class Information(BaseModel):\n",
    "    people: List[Person]\n",
    "\n",
    "extraction_fn = [convert_pydantic_to_openai_function(Information)]\n",
    "extraction_model = model.bind(functions=extraction_fn, function_call={\"name\": \"Information\"})"
   ]
  },
  {
   "cell_type": "code",
   "execution_count": 24,
   "metadata": {},
   "outputs": [],
   "source": [
    "\n",
    "extract_prompt = ChatPromptTemplate.from_messages([\n",
    "    (\"system\", \"Extract names and ages of people from the input text.\"),\n",
    "    (\"user\", \"{input}\")\n",
    "])"
   ]
  },
  {
   "cell_type": "code",
   "execution_count": 25,
   "metadata": {},
   "outputs": [],
   "source": [
    "extraction_chain = extract_prompt | extraction_model | JsonOutputFunctionsParser()"
   ]
  },
  {
   "cell_type": "code",
   "execution_count": 26,
   "metadata": {},
   "outputs": [
    {
     "data": {
      "text/plain": [
       "{'people': [{'name': 'John', 'age': 25}, {'name': 'Mary', 'age': 30}]}"
      ]
     },
     "execution_count": 26,
     "metadata": {},
     "output_type": "execute_result"
    }
   ],
   "source": [
    "extraction_chain.invoke(input=\"I have two friends, John and Mary. John is 25 years old and Mary is 30 years old.\")"
   ]
  },
  {
   "cell_type": "markdown",
   "metadata": {},
   "source": [
    "# exmaple  webbased for tagging and extraction "
   ]
  },
  {
   "cell_type": "code",
   "execution_count": 27,
   "metadata": {},
   "outputs": [],
   "source": [
    "loader = WebBaseLoader(\"https://lilianweng.github.io/posts/2023-06-23-agent/\")"
   ]
  },
  {
   "cell_type": "code",
   "execution_count": 28,
   "metadata": {},
   "outputs": [],
   "source": [
    "documents = loader.load()\n",
    "page_content = documents[0].page_content[:10000]"
   ]
  },
  {
   "cell_type": "code",
   "execution_count": 29,
   "metadata": {},
   "outputs": [],
   "source": [
    "class Overview(BaseModel):\n",
    "    summary: str\n",
    "    language: str\n",
    "    keywords: str"
   ]
  },
  {
   "cell_type": "code",
   "execution_count": 30,
   "metadata": {},
   "outputs": [],
   "source": [
    "overview_fn = [convert_pydantic_to_openai_function(Overview)]"
   ]
  },
  {
   "cell_type": "code",
   "execution_count": 31,
   "metadata": {},
   "outputs": [
    {
     "data": {
      "text/plain": [
       "[{'name': 'Overview',\n",
       "  'description': '',\n",
       "  'parameters': {'properties': {'summary': {'type': 'string'},\n",
       "    'language': {'type': 'string'},\n",
       "    'keywords': {'type': 'string'}},\n",
       "   'required': ['summary', 'language', 'keywords'],\n",
       "   'type': 'object'}}]"
      ]
     },
     "execution_count": 31,
     "metadata": {},
     "output_type": "execute_result"
    }
   ],
   "source": [
    "overview_fn"
   ]
  },
  {
   "cell_type": "code",
   "execution_count": 32,
   "metadata": {},
   "outputs": [],
   "source": [
    "overview_model = model.bind(functions=overview_fn, function_call={\"name\": \"Overview\"})"
   ]
  },
  {
   "cell_type": "code",
   "execution_count": 33,
   "metadata": {},
   "outputs": [],
   "source": [
    "overview_prompt = ChatPromptTemplate.from_messages([\n",
    "    (\"system\", \"Summarize the article and extract keywords and language.\"),\n",
    "    (\"user\", \"{input}\")\n",
    "])"
   ]
  },
  {
   "cell_type": "code",
   "execution_count": 34,
   "metadata": {},
   "outputs": [],
   "source": [
    "overview_chain = overview_prompt | overview_model | JsonOutputFunctionsParser() "
   ]
  },
  {
   "cell_type": "code",
   "execution_count": 35,
   "metadata": {},
   "outputs": [
    {
     "name": "stdout",
     "output_type": "stream",
     "text": [
      "{'summary': 'The article discusses the concept of building autonomous agents powered by LLM (large language model) as the core controller. It explores components like planning, memory, and tool use in these agents, along with techniques such as task decomposition and self-reflection. Various case studies and proof-of-concept examples are presented to showcase the potential of LLM-powered agents as problem solvers.', 'language': 'English', 'keywords': 'LLM, autonomous agents, planning, memory, tool use, task decomposition, self-reflection, proof-of-concept, case studies'}\n"
     ]
    }
   ],
   "source": [
    "print(overview_chain.invoke({\"input\": page_content}))"
   ]
  },
  {
   "cell_type": "code",
   "execution_count": 36,
   "metadata": {},
   "outputs": [],
   "source": [
    "# Extract Papers Mentioned\n",
    "class Paper(BaseModel):\n",
    "    title: str\n",
    "    author: Optional[str] = None"
   ]
  },
  {
   "cell_type": "code",
   "execution_count": 37,
   "metadata": {},
   "outputs": [],
   "source": [
    "class Info(BaseModel):\n",
    "    papers: List[Paper]"
   ]
  },
  {
   "cell_type": "code",
   "execution_count": 38,
   "metadata": {},
   "outputs": [],
   "source": [
    "\n",
    "papers_fn = [convert_pydantic_to_openai_function(Info)]"
   ]
  },
  {
   "cell_type": "code",
   "execution_count": 39,
   "metadata": {},
   "outputs": [
    {
     "data": {
      "text/plain": [
       "[{'name': 'Info',\n",
       "  'description': '',\n",
       "  'parameters': {'properties': {'papers': {'items': {'properties': {'title': {'type': 'string'},\n",
       "       'author': {'anyOf': [{'type': 'string'}, {'type': 'null'}],\n",
       "        'default': None}},\n",
       "      'required': ['title'],\n",
       "      'type': 'object'},\n",
       "     'type': 'array'}},\n",
       "   'required': ['papers'],\n",
       "   'type': 'object'}}]"
      ]
     },
     "execution_count": 39,
     "metadata": {},
     "output_type": "execute_result"
    }
   ],
   "source": [
    "papers_fn"
   ]
  },
  {
   "cell_type": "code",
   "execution_count": 40,
   "metadata": {},
   "outputs": [],
   "source": [
    "paper_model = model.bind(functions=papers_fn, function_call={\"name\": \"Info\"})\n",
    "\n",
    "\n",
    "paper_prompt = ChatPromptTemplate.from_messages([\n",
    "    (\"system\", \"Extract titles and authors of papers mentioned in the text.\"),\n",
    "    (\"user\", \"{input}\")\n",
    "])"
   ]
  },
  {
   "cell_type": "code",
   "execution_count": 43,
   "metadata": {},
   "outputs": [
    {
     "data": {
      "text/plain": [
       "{'papers': [{'title': 'Chain of Thought', 'author': 'Wei et al. 2022'},\n",
       "  {'title': 'Tree of Thoughts', 'author': 'Yao et al. 2023'},\n",
       "  {'title': 'LLM+P', 'author': 'Liu et al. 2023'},\n",
       "  {'title': 'ReAct', 'author': 'Yao et al. 2023'},\n",
       "  {'title': 'Reflexion', 'author': 'Shinn & Labash 2023'},\n",
       "  {'title': 'Chain of Hindsight', 'author': 'Liu et al. 2023'},\n",
       "  {'title': 'Algorithm Distillation', 'author': 'Laskin et al. 2023'}]}"
      ]
     },
     "execution_count": 43,
     "metadata": {},
     "output_type": "execute_result"
    }
   ],
   "source": [
    "paper_chain = paper_prompt | paper_model | JsonOutputFunctionsParser()\n",
    "paper_chain.invoke({\"input\": page_content})\n"
   ]
  },
  {
   "cell_type": "code",
   "execution_count": null,
   "metadata": {},
   "outputs": [],
   "source": []
  },
  {
   "cell_type": "markdown",
   "metadata": {},
   "source": [
    "# routing"
   ]
  },
  {
   "cell_type": "markdown",
   "metadata": {},
   "source": []
  },
  {
   "cell_type": "markdown",
   "metadata": {},
   "source": [
    "## \n",
    " Routing means determining which tool (function) should be executed based on the user's input."
   ]
  },
  {
   "cell_type": "markdown",
   "metadata": {},
   "source": []
  },
  {
   "cell_type": "code",
   "execution_count": 52,
   "metadata": {},
   "outputs": [],
   "source": [
    "from langchain.schema.agent import AgentFinish\n",
    "from langchain.agents import tool\n",
    "import requests\n",
    "import wikipedia\n",
    "import json\n",
    "from langchain.tools.render import format_tool_to_openai_function \n",
    "from langchain.agents.output_parsers import OpenAIFunctionsAgentOutputParser"
   ]
  },
  {
   "cell_type": "code",
   "execution_count": null,
   "metadata": {},
   "outputs": [],
   "source": [
    "class OpenMeteoInput(BaseModel):\n",
    "    latitude: float = Field(..., description=\"Latitude of the location\")\n",
    "    longitude: float = Field(..., description=\"Longitude of the location\")\n",
    "\n"
   ]
  },
  {
   "cell_type": "code",
   "execution_count": 49,
   "metadata": {},
   "outputs": [],
   "source": [
    "@tool(args_schema=OpenMeteoInput)\n",
    "def get_current_temperature(latitude: float, longitude: float) -> str:\n",
    "    \"\"\"Fetch current temperature for a location using Open-Meteo API.\"\"\"\n",
    "    BASE_URL = \"https://api.open-meteo.com/v1/forecast\"\n",
    "    params = {\n",
    "        \"latitude\": latitude,\n",
    "        \"longitude\": longitude,\n",
    "        \"hourly\": \"temperature_2m\",\n",
    "        \"forecast_days\": 1,\n",
    "    }\n",
    "    response = requests.get(BASE_URL, params=params)\n",
    "    if response.status_code != 200:\n",
    "        return \"Weather API error.\"\n",
    "    data = response.json()\n",
    "    current_time = data[\"hourly\"][\"time\"][0]\n",
    "    current_temp = data[\"hourly\"][\"temperature_2m\"][0]\n",
    "    return f\"At {current_time}, it is {current_temp}°C.\""
   ]
  },
  {
   "cell_type": "code",
   "execution_count": 50,
   "metadata": {},
   "outputs": [],
   "source": [
    "@tool \n",
    "def search_wikipedia(query:str )-> str:\n",
    "    \"\"\"Return Wikipedia summaries for a given query.\"\"\"\n",
    "    pages = wikipedia.search(query)\n",
    "    summaries = []\n",
    "    for title in pages[:3]:\n",
    "        try:\n",
    "            page = wikipedia.page(title, auto_suggest=False)\n",
    "            summaries.append(f\"**{title}**\\n{page.summary}\")\n",
    "        except:\n",
    "            pass\n",
    "    return \"\\n\\n\".join(summaries) if summaries else \"No good results found.\"\n"
   ]
  },
  {
   "cell_type": "code",
   "execution_count": 53,
   "metadata": {},
   "outputs": [
    {
     "name": "stderr",
     "output_type": "stream",
     "text": [
      "/var/folders/nn/3vv9s5d557bc1lhnccljp37w0000gn/T/ipykernel_88885/2175230857.py:2: LangChainDeprecationWarning: The function `_format_tool_to_openai_function` was deprecated in LangChain 0.1.16 and will be removed in 1.0. Use :meth:`~langchain_core.utils.function_calling.convert_to_openai_function()` instead.\n",
      "  openai_tools = [format_tool_to_openai_function(t) for t in tools]\n"
     ]
    }
   ],
   "source": [
    "tools = [get_current_temperature, search_wikipedia]\n",
    "openai_tools = [format_tool_to_openai_function(t) for t in tools]\n",
    "\n"
   ]
  },
  {
   "cell_type": "code",
   "execution_count": 54,
   "metadata": {},
   "outputs": [],
   "source": [
    "model = ChatOpenAI(temperature=0).bind(functions=openai_tools)"
   ]
  },
  {
   "cell_type": "code",
   "execution_count": 55,
   "metadata": {},
   "outputs": [],
   "source": [
    "prompt = ChatPromptTemplate.from_messages([\n",
    "    (\"system\", \"You are a helpful but sassy assistant.\"),\n",
    "    (\"user\", \"{input}\")\n",
    "])"
   ]
  },
  {
   "cell_type": "code",
   "execution_count": 56,
   "metadata": {},
   "outputs": [],
   "source": [
    "chain = prompt | model | OpenAIFunctionsAgentOutputParser()"
   ]
  },
  {
   "cell_type": "code",
   "execution_count": 60,
   "metadata": {},
   "outputs": [],
   "source": [
    "def route (result):\n",
    "    if isinstance(result,AgentFinish):\n",
    "        return result.return_values[\"output\"]\n",
    "    tool_map = {\n",
    "        \"search_wikipedia\": search_wikipedia,\n",
    "        \"get_current_temperature\": get_current_temperature\n",
    "\n",
    "    }\n",
    "    return tool_map[result.tool].run(result.tool_input)\n",
    "\n",
    "router_chain= chain | route "
   ]
  },
  {
   "cell_type": "code",
   "execution_count": 62,
   "metadata": {},
   "outputs": [
    {
     "name": "stdout",
     "output_type": "stream",
     "text": [
      "\n",
      "✅ Weather tool:\n",
      "At 2025-04-23T00:00, it is 22.2°C.\n"
     ]
    }
   ],
   "source": [
    "print(\"\\n✅ Weather tool:\")\n",
    "print(router_chain.invoke({\"input\": \"What is the weather in Bangalore?\"}))"
   ]
  },
  {
   "cell_type": "code",
   "execution_count": 63,
   "metadata": {},
   "outputs": [
    {
     "name": "stdout",
     "output_type": "stream",
     "text": [
      "\n",
      "✅ Wikipedia  tool:\n",
      "**Narendra Modi**\n",
      "Narendra Damodardas Modi (born 17 September 1950) is an Indian politician who has served as the  prime minister of India since 2014. Modi was the chief minister of Gujarat from 2001 to 2014 and is the member of parliament (MP) for Varanasi. He is a member of the Bharatiya Janata Party (BJP) and of the Rashtriya Swayamsevak Sangh (RSS), a far-right Hindu nationalist paramilitary volunteer organisation. He is the longest-serving prime minister outside the Indian National Congress.\n",
      "Modi was born and raised in Vadnagar in northeastern Gujarat, where he completed his secondary education. He was introduced to the RSS at the age of eight. At the age of 18, he was married to Jashodaben Modi, whom he abandoned soon after, only publicly acknowledging her four decades later when legally required to do so. Modi became a full-time worker for the RSS in Gujarat in 1971. The RSS assigned him to the BJP in 1985 and he rose through the party hierarchy, becoming general secretary in 1998. In 2001, Modi was appointed chief minister of Gujarat and elected to the legislative assembly soon after. His administration is considered complicit in the 2002 Gujarat riots, and has been criticised for its management of the crisis. According to official records, a little over 1,000 people were killed, three-quarters of whom were Muslim; independent sources estimated 2,000 deaths, mostly Muslim. A Special Investigation Team appointed by the Supreme Court of India in 2012 found no evidence to initiate prosecution proceedings against him. While his policies as chief minister were credited for encouraging economic growth, his administration was criticised for failing to significantly improve health, poverty and education indices in the state.\n",
      "In the 2014 Indian general election, Modi led the BJP to a parliamentary majority, the first for a party since 1984. His administration increased direct foreign investment, and reduced spending on healthcare, education, and social-welfare programmes. Modi began a high-profile sanitation campaign, and weakened or abolished environmental and labour laws. His demonetisation of banknotes in 2016 and introduction of the Goods and Services Tax in 2017 sparked controversy. Modi's administration launched the 2019 Balakot airstrike against an alleged terrorist training camp in Pakistan. The airstrike failed, but the action had nationalist appeal. Modi's party won the 2019 general election which followed. In its second term, his administration revoked the special status of Jammu and Kashmir, and introduced the Citizenship Amendment Act, prompting widespread protests, and spurring the 2020 Delhi riots in which Muslims were brutalised and killed by Hindu mobs. Three controversial farm laws led to sit-ins by farmers across the country, eventually causing their formal repeal. Modi oversaw India's response to the COVID-19 pandemic, during which, according to the World Health Organization's estimates, 4.7 million Indians died. In the 2024 general election, Modi's party lost its majority in the lower house of Parliament and formed a government leading the National Democratic Alliance coalition.\n",
      "Under Modi's tenure, India has experienced democratic backsliding, or the weakening of democratic institutions, individual rights, and freedom of expression. As prime minister, he has received consistently high approval ratings. Modi has been described as engineering a political realignment towards right-wing politics. He remains a controversial figure domestically and internationally, over his Hindu nationalist beliefs and handling of the Gujarat riots, which have been cited as evidence of a majoritarian and exclusionary social agenda.\n",
      "\n",
      "**Narendra Modi Stadium**\n",
      "The Narendra Modi Stadium is an international cricket stadium located in Ahmedabad, Gujarat, a state in west India. With a capacity of 132,000 (total), 114,600 (seated) it is the world's largest stadium. The stadium, owned by the Gujarat Cricket Association, hosts both domestic and international cricket matches. It is recognized as one of the world's premier cricket venues. The stadium has hosted several high-profile matches, such as the 2023 One Day International World Cup final. It was named after the 14th Prime Minister of India, Narendra Modi. \n",
      "This stadium replaced the Sardar Vallabhbhai Patel Stadium, Ahmedabad which was used to host domestic and international cricket in the city until its demolition in 2015. Sardar Vallabhbhai Patel Stadium was one of the most prominent cricket venues ; it hosted matches during the 1987, 1996, and 2011 ICC World Cups. In 2014, it was decided that a new stadium should be built on the same plot. The new stadium, originally named Motera Stadium, was designed by Australia's design firm Populous and built by Larsen and Toubro. It took five years to build, at an estimated cost of ₹800 crore (US$93 million). Once completed, the new arena replaced the Melbourne Cricket Ground as the world's largest cricket stadium. The stadium has four dressing rooms, 11 center pitches, and two practice grounds. The practice grounds can additionally serve as venues for domestic matches.\n",
      "The new stadium was first opened to the public in 2020 amid the Namaste Trump event and the COVID-19 pandemic. In February 2021, the stadium was renamed Narendra Modi Stadium in honor of the Indian Prime Minister at the time, Narendra Modi. The prime minister had previously served as chief minister of Gujarat (2001–2014) as well as president of the GCA (2009-2014). In 2021, the stadium was inaugurated with Indian President Ram Nath Kovind presiding over the event.\n",
      "On 24 February 2021, the stadium hosted its first Test match, when home side India played against England. It was also its first day-night test game. On 29 September 2022, the opening ceremony of the 2022 National Games of India was held in the stadium.\n",
      "\n",
      "**Premiership of Narendra Modi**\n",
      "The premiership of Narendra Modi began 26 May 2014 with his swearing-in as the  prime minister of India at the Rashtrapati Bhavan. He succeeded Manmohan Singh of the Indian National Congress (INC). Modi's first cabinet consisted of 45 ministers, 25 fewer than the previous United Progressive Alliance (UPA) government. A total of 21 ministers were added to the council of ministers on 9 November 2014.\n",
      "In 2019, he was elected as the prime minister of India for a second term and sworn in at the Rashtrapati Bhavan on 30 May 2019. His second cabinet consisted of 54 ministers and initially had 51 ministers, which was expanded to 77 ministers during a reshuffle on 7 July 2021. His premiership has, to a considerable extent, practiced high command culture.\n",
      "Modi was sworn in for a third term as prime minister, heading a coalition government, on 9 June 2024.\n",
      "India has experienced democratic backsliding under Modi's premiership.\n"
     ]
    }
   ],
   "source": [
    "print(\"\\n✅ Wikipedia  tool:\")\n",
    "print(router_chain.invoke({\"input\": \"Who is Naredendra modi?\"}))"
   ]
  },
  {
   "cell_type": "code",
   "execution_count": null,
   "metadata": {},
   "outputs": [],
   "source": []
  }
 ],
 "metadata": {
  "kernelspec": {
   "display_name": "Python 3",
   "language": "python",
   "name": "python3"
  },
  "language_info": {
   "codemirror_mode": {
    "name": "ipython",
    "version": 3
   },
   "file_extension": ".py",
   "mimetype": "text/x-python",
   "name": "python",
   "nbconvert_exporter": "python",
   "pygments_lexer": "ipython3",
   "version": "3.10.17"
  }
 },
 "nbformat": 4,
 "nbformat_minor": 2
}
