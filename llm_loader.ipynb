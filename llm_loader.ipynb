{
 "cells": [
  {
   "cell_type": "markdown",
   "id": "97655aa7",
   "metadata": {},
   "source": [
    "# 1. Txt File Load"
   ]
  },
  {
   "cell_type": "code",
   "execution_count": 1,
   "id": "db41cecc",
   "metadata": {},
   "outputs": [
    {
     "data": {
      "text/plain": [
       "True"
      ]
     },
     "execution_count": 1,
     "metadata": {},
     "output_type": "execute_result"
    }
   ],
   "source": [
    "import os\n",
    "from dotenv import load_dotenv\n",
    "\n",
    "# Load environment variables from .env file\n",
    "load_dotenv()\n"
   ]
  },
  {
   "cell_type": "code",
   "execution_count": 19,
   "id": "ceb38256",
   "metadata": {},
   "outputs": [],
   "source": [
    "from langchain_community.document_loaders import (\n",
    "    TextLoader,\n",
    "    PyPDFLoader,\n",
    "    CSVLoader,\n",
    "    WebBaseLoader\n",
    ")"
   ]
  },
  {
   "cell_type": "code",
   "execution_count": 3,
   "id": "54411c2b",
   "metadata": {},
   "outputs": [],
   "source": [
    "DATA_DIR = \"Data\"\n",
    "\n",
    "text_path = os.path.join(DATA_DIR, \"GD.txt\")"
   ]
  },
  {
   "cell_type": "code",
   "execution_count": 4,
   "id": "f134bc75",
   "metadata": {},
   "outputs": [],
   "source": [
    "text_loader = TextLoader(text_path)\n",
    "text_docs = text_loader.load()"
   ]
  },
  {
   "cell_type": "code",
   "execution_count": 5,
   "id": "9e4e71d4",
   "metadata": {},
   "outputs": [
    {
     "data": {
      "text/plain": [
       "1"
      ]
     },
     "execution_count": 5,
     "metadata": {},
     "output_type": "execute_result"
    }
   ],
   "source": [
    "len(text_docs)"
   ]
  },
  {
   "cell_type": "code",
   "execution_count": 6,
   "id": "d646e3f3",
   "metadata": {},
   "outputs": [
    {
     "data": {
      "text/plain": [
       "Document(metadata={'source': 'Data\\\\GD.txt'}, page_content='\\n1. Basic Concepts\\n\\n-What is Gradient Descent?\\n-How does the learning rate affect the convergence of Gradient Descent?\\n-What are the challenges of using a fixed learning rate?\\n2. Variants of Gradient Descent\\n\\n-Explain the difference between Batch Gradient Descent, Stochastic Gradient Descent, and Mini-Batch Gradient Descent.\\n-When would you use each variant of Gradient Descent?\\n-How can you improve the convergence speed of Gradient Descent?\\n3. Practical Considerations\\n\\n-How do you handle vanishing and exploding gradients?\\n-What is the role of regularization in Gradient Descent?\\n-How do you choose the optimal learning rate for your model?\\n-Explain the concept of momentum in Gradient Descent.\\n-What is the difference between batch normalization and layer normalization?\\n4. Advanced Topics\\n\\n-How does adaptive learning rate methods like Adam and RMSprop work?\\n-What is the role of the optimizer in Gradient Descent?\\n-Explain the concept of gradient clipping and its importance in training deep neural networks.\\n-How can you implement early stopping to prevent overfitting?')"
      ]
     },
     "execution_count": 6,
     "metadata": {},
     "output_type": "execute_result"
    }
   ],
   "source": [
    "text_docs[0]"
   ]
  },
  {
   "cell_type": "code",
   "execution_count": 7,
   "id": "24ba9a73",
   "metadata": {},
   "outputs": [
    {
     "data": {
      "text/plain": [
       "'\\n1. Basic Concepts\\n\\n-What is Gradient Descent?\\n-How does the learning rate affect the convergence of Gradient Descent?\\n-What are the challenges of using a fixed learning rate?\\n2. Variants of Gradient Descent\\n\\n-Explain the difference between Batch Gradient Descent, Stochastic Gradient Descent, and Mini-Batch Gradient Descent.\\n-When would you use each variant of Gradient Descent?\\n-How can you improve the convergence speed of Gradient Descent?\\n3. Practical Considerations\\n\\n-How do you handle vanishing and exploding gradients?\\n-What is the role of regularization in Gradient Descent?\\n-How do you choose the optimal learning rate for your model?\\n-Explain the concept of momentum in Gradient Descent.\\n-What is the difference between batch normalization and layer normalization?\\n4. Advanced Topics\\n\\n-How does adaptive learning rate methods like Adam and RMSprop work?\\n-What is the role of the optimizer in Gradient Descent?\\n-Explain the concept of gradient clipping and its importance in training deep '"
      ]
     },
     "execution_count": 7,
     "metadata": {},
     "output_type": "execute_result"
    }
   ],
   "source": [
    "text_docs[0].page_content[:1000]  # Display the first 1000 characters of the first document"
   ]
  },
  {
   "cell_type": "code",
   "execution_count": 9,
   "id": "f2b92822",
   "metadata": {},
   "outputs": [
    {
     "data": {
      "text/plain": [
       "{'source': 'Data\\\\GD.txt'}"
      ]
     },
     "execution_count": 9,
     "metadata": {},
     "output_type": "execute_result"
    }
   ],
   "source": [
    "text_docs[0].metadata"
   ]
  },
  {
   "cell_type": "markdown",
   "id": "1066f8c0",
   "metadata": {},
   "source": [
    "# 1. CSV File Load"
   ]
  },
  {
   "cell_type": "code",
   "execution_count": 11,
   "id": "81ec5512",
   "metadata": {},
   "outputs": [],
   "source": [
    "csv_path = os.path.join(DATA_DIR, \"Customers.csv\")"
   ]
  },
  {
   "cell_type": "code",
   "execution_count": 13,
   "id": "f0d62521",
   "metadata": {},
   "outputs": [],
   "source": [
    "csv_loader = CSVLoader(csv_path)"
   ]
  },
  {
   "cell_type": "code",
   "execution_count": 15,
   "id": "3fa960d5",
   "metadata": {},
   "outputs": [
    {
     "data": {
      "text/plain": [
       "200"
      ]
     },
     "execution_count": 15,
     "metadata": {},
     "output_type": "execute_result"
    }
   ],
   "source": [
    "csv_docs = csv_loader.load()\n",
    "len(csv_docs)"
   ]
  },
  {
   "cell_type": "code",
   "execution_count": 16,
   "id": "f0fb0ae3",
   "metadata": {},
   "outputs": [
    {
     "data": {
      "text/plain": [
       "'\\ufeffCustomerID: C0001\\nCustomerName: Lawrence Carroll\\nRegion: South America\\nSignupDate: 2022-07-10'"
      ]
     },
     "execution_count": 16,
     "metadata": {},
     "output_type": "execute_result"
    }
   ],
   "source": [
    "csv_docs[0].page_content[:1000]  # Display the first 1000 characters of the first CSV document"
   ]
  },
  {
   "cell_type": "code",
   "execution_count": 17,
   "id": "266fc919",
   "metadata": {},
   "outputs": [
    {
     "data": {
      "text/plain": [
       "{'source': 'Data\\\\Customers.csv', 'row': 0}"
      ]
     },
     "execution_count": 17,
     "metadata": {},
     "output_type": "execute_result"
    }
   ],
   "source": [
    "csv_docs[0].metadata"
   ]
  },
  {
   "cell_type": "markdown",
   "id": "1e969abd",
   "metadata": {},
   "source": [
    "# 3. Webpage loader"
   ]
  },
  {
   "cell_type": "code",
   "execution_count": 20,
   "id": "91ee4be7",
   "metadata": {},
   "outputs": [],
   "source": [
    "from langchain_community.document_loaders import WebBaseLoader"
   ]
  },
  {
   "cell_type": "code",
   "execution_count": 21,
   "id": "730ce7b9",
   "metadata": {},
   "outputs": [],
   "source": [
    "web_loader = WebBaseLoader(\"https://www.tpointtech.com/python-tutorial\")"
   ]
  },
  {
   "cell_type": "code",
   "execution_count": 24,
   "id": "b8fbe6e7",
   "metadata": {},
   "outputs": [],
   "source": [
    "web_docs = web_loader.load()"
   ]
  },
  {
   "cell_type": "code",
   "execution_count": 25,
   "id": "dd95a6ae",
   "metadata": {},
   "outputs": [
    {
     "data": {
      "text/plain": [
       "{'source': 'https://www.tpointtech.com/python-tutorial',\n",
       " 'title': 'Python Tutorial | Learn Python Programming Language - Tpoint Tech',\n",
       " 'description': 'Tutorial Compiler Programs Lists Tuples Interview Questions --> Python is one of the most popular and widely used programming language in nowadays, because o...',\n",
       " 'language': 'en'}"
      ]
     },
     "execution_count": 25,
     "metadata": {},
     "output_type": "execute_result"
    }
   ],
   "source": [
    "web_docs[0].page_content[:1000]  # Display the first 1000 characters of the first web document\n",
    "web_docs[0].metadata"
   ]
  },
  {
   "cell_type": "markdown",
   "id": "fa9b7668",
   "metadata": {},
   "source": [
    "# 4. Pypdf Loader"
   ]
  },
  {
   "cell_type": "code",
   "execution_count": 26,
   "id": "1745387a",
   "metadata": {},
   "outputs": [],
   "source": [
    "from langchain_community.document_loaders import PyPDFLoader"
   ]
  },
  {
   "cell_type": "code",
   "execution_count": 27,
   "id": "7147257b",
   "metadata": {},
   "outputs": [],
   "source": [
    "pdf_path = os.path.join(DATA_DIR, \"Git Cheat Sheet.pdf\")"
   ]
  },
  {
   "cell_type": "code",
   "execution_count": 28,
   "id": "aac7ebd9",
   "metadata": {},
   "outputs": [
    {
     "data": {
      "text/plain": [
       "{'producer': 'Microsoft® Word 2013',\n",
       " 'creator': 'Microsoft® Word 2013',\n",
       " 'creationdate': '2019-11-28T14:21:46+05:30',\n",
       " 'author': 'HiMaNshU',\n",
       " 'moddate': '2019-11-28T14:21:46+05:30',\n",
       " 'source': 'Data\\\\Git Cheat Sheet.pdf',\n",
       " 'total_pages': 9,\n",
       " 'page': 0,\n",
       " 'page_label': '1'}"
      ]
     },
     "execution_count": 28,
     "metadata": {},
     "output_type": "execute_result"
    }
   ],
   "source": [
    "pdf_loader = PyPDFLoader(pdf_path)\n",
    "pdf_docs = pdf_loader.load()\n",
    "len(pdf_docs)\n",
    "pdf_docs[0].page_content[:1000]  # Display the first 1000 characters of the first PDF document\n",
    "pdf_docs[0].metadata"
   ]
  },
  {
   "cell_type": "markdown",
   "id": "4508c286",
   "metadata": {},
   "source": [
    "# 5 HTML Loader"
   ]
  },
  {
   "cell_type": "code",
   "execution_count": 33,
   "id": "08eabf19",
   "metadata": {},
   "outputs": [],
   "source": [
    "from langchain_community.document_loaders import UnstructuredHTMLLoader"
   ]
  },
  {
   "cell_type": "code",
   "execution_count": 34,
   "id": "4c4a5f89",
   "metadata": {},
   "outputs": [],
   "source": [
    "html_path = os.path.join(DATA_DIR, \"sample1.html\")"
   ]
  },
  {
   "cell_type": "code",
   "execution_count": 35,
   "id": "7ae9b1bf",
   "metadata": {},
   "outputs": [],
   "source": [
    "html_loader = UnstructuredHTMLLoader(html_path)\n",
    "html_docs = html_loader.load()"
   ]
  },
  {
   "cell_type": "code",
   "execution_count": 36,
   "id": "e27d1b7a",
   "metadata": {},
   "outputs": [
    {
     "data": {
      "text/plain": [
       "1"
      ]
     },
     "execution_count": 36,
     "metadata": {},
     "output_type": "execute_result"
    }
   ],
   "source": [
    "len(html_docs)"
   ]
  },
  {
   "cell_type": "code",
   "execution_count": 37,
   "id": "efe306fc",
   "metadata": {},
   "outputs": [
    {
     "data": {
      "text/plain": [
       "'Lorem ipsum dolor, sit amet consectetur adipisicing elit. Quaerat quo corrupti unde aliquam magnam, maxime labore eos omnis possimus autem similique quae, quia nam, molestiae aperiam ratione est ut repellendus?\\n\\nLorem ipsum dolor, sit amet consectetur adipisicing elit. Quaerat quo corrupti unde aliquam magnam, maxime labore eos omnis possimus autem similique quae, quia nam, molestiae aperiam ratione est ut repellendus?'"
      ]
     },
     "execution_count": 37,
     "metadata": {},
     "output_type": "execute_result"
    }
   ],
   "source": [
    "html_docs[0].page_content[:1000]  # Display the first 1000 characters of the first HTML document"
   ]
  },
  {
   "cell_type": "code",
   "execution_count": 39,
   "id": "4e94fb3e",
   "metadata": {},
   "outputs": [
    {
     "data": {
      "text/plain": [
       "{'source': 'Data\\\\sample1.html'}"
      ]
     },
     "execution_count": 39,
     "metadata": {},
     "output_type": "execute_result"
    }
   ],
   "source": [
    "html_docs[0].metadata"
   ]
  },
  {
   "cell_type": "markdown",
   "id": "56d8d4cb",
   "metadata": {},
   "source": [
    "# 6 SQL File Loader"
   ]
  },
  {
   "cell_type": "code",
   "execution_count": 46,
   "id": "b9bd3ca7",
   "metadata": {},
   "outputs": [],
   "source": [
    "from langchain.document_loaders import TextLoader\n",
    "\n",
    "sql_path = os.path.join(DATA_DIR, \"SQL.sql\")  # Replace with your actual SQL file path\n",
    "\n",
    "# Load the SQL file\n",
    "loader = TextLoader(sql_path)\n",
    "documents = loader.load()"
   ]
  },
  {
   "cell_type": "code",
   "execution_count": 47,
   "id": "baeaa3dd",
   "metadata": {},
   "outputs": [
    {
     "data": {
      "text/plain": [
       "\"--\\n-- Database: `samplevideo_db`\\n--\\n\\n-- --------------------------------------------------------\\n\\n--\\n-- Table structure for table `user_details`\\n--\\n\\nCREATE TABLE IF NOT EXISTS `user_details` (\\n  `user_id` int(11) NOT NULL AUTO_INCREMENT,\\n  `username` varchar(255) DEFAULT NULL,\\n  `first_name` varchar(50) DEFAULT NULL,\\n  `last_name` varchar(50) DEFAULT NULL,\\n  `gender` varchar(10) DEFAULT NULL,\\n  `password` varchar(50) DEFAULT NULL,\\n  `status` tinyint(10) DEFAULT NULL,\\n  PRIMARY KEY (`user_id`)\\n) ENGINE=MyISAM  DEFAULT CHARSET=latin1 AUTO_INCREMENT=10001 ;\\n\\n--\\n-- Dumping data for table `user_details`\\n--\\n\\nINSERT INTO `user_details` (`user_id`, `username`, `first_name`, `last_name`, `gender`, `password`, `status`) VALUES\\n(1, 'rogers63', 'david', 'john', 'Female', 'e6a33eee180b07e563d74fee8c2c66b8', 1),\\n(2, 'mike28', 'rogers', 'paul', 'Male', '2e7dc6b8a1598f4f75c3eaa47958ee2f', 1),\\n(3, 'rivera92', 'david', 'john', 'Male', '1c3a8e03f448d211904161a6f5849b68', 1),\\n(4, 'ross95', 'maria', 'sande\""
      ]
     },
     "execution_count": 47,
     "metadata": {},
     "output_type": "execute_result"
    }
   ],
   "source": [
    "documents[0].page_content[:1000]  # Display the first 1000 characters of the SQL document"
   ]
  },
  {
   "cell_type": "code",
   "execution_count": 48,
   "id": "c45e96d4",
   "metadata": {},
   "outputs": [
    {
     "data": {
      "text/plain": [
       "{'source': 'Data\\\\SQL.sql'}"
      ]
     },
     "execution_count": 48,
     "metadata": {},
     "output_type": "execute_result"
    }
   ],
   "source": [
    "documents[0].metadata"
   ]
  },
  {
   "cell_type": "markdown",
   "id": "00005894",
   "metadata": {},
   "source": [
    "# 7 SQLite File Loader"
   ]
  },
  {
   "cell_type": "code",
   "execution_count": 43,
   "id": "d24882c1",
   "metadata": {},
   "outputs": [],
   "source": [
    "from langchain_community.utilities.sql_database import SQLDatabase\n",
    "from langchain_community.document_loaders import SQLDatabaseLoader"
   ]
  },
  {
   "cell_type": "code",
   "execution_count": 51,
   "id": "488ce918",
   "metadata": {},
   "outputs": [],
   "source": [
    "sqlite_path = os.path.join(DATA_DIR, \"example.sqlite\")  # Replace with your actual SQLite file path"
   ]
  },
  {
   "cell_type": "code",
   "execution_count": 52,
   "id": "ed059fd1",
   "metadata": {},
   "outputs": [],
   "source": [
    "db = SQLDatabase.from_uri(f\"sqlite:///{sqlite_path}\")\n"
   ]
  },
  {
   "cell_type": "code",
   "execution_count": 53,
   "id": "683fc7a6",
   "metadata": {},
   "outputs": [],
   "source": [
    "table_name = db.get_usable_table_names()"
   ]
  },
  {
   "cell_type": "code",
   "execution_count": 54,
   "id": "5a008326",
   "metadata": {},
   "outputs": [
    {
     "name": "stdout",
     "output_type": "stream",
     "text": [
      "['products']\n"
     ]
    }
   ],
   "source": [
    "print(table_name)"
   ]
  },
  {
   "cell_type": "code",
   "execution_count": 55,
   "id": "9c812752",
   "metadata": {},
   "outputs": [
    {
     "name": "stdout",
     "output_type": "stream",
     "text": [
      "\n",
      "CREATE TABLE products (\n",
      "\tid INTEGER, \n",
      "\tname TEXT NOT NULL, \n",
      "\tprice REAL, \n",
      "\tquantity INTEGER, \n",
      "\tPRIMARY KEY (id)\n",
      ")\n",
      "\n",
      "/*\n",
      "3 rows from products table:\n",
      "id\tname\tprice\tquantity\n",
      "1\tLaptop\t1200.0\t10\n",
      "2\tSmartphone\t800.0\t20\n",
      "3\tTablet\t450.0\t15\n",
      "*/\n"
     ]
    }
   ],
   "source": [
    "print(db.get_table_info(['products']))"
   ]
  },
  {
   "cell_type": "code",
   "execution_count": 56,
   "id": "5f5fdbb9",
   "metadata": {},
   "outputs": [],
   "source": [
    "query = \"SELECT * FROM products LIMIT 5\""
   ]
  },
  {
   "cell_type": "code",
   "execution_count": 58,
   "id": "2561c10c",
   "metadata": {},
   "outputs": [],
   "source": [
    "loader = SQLDatabaseLoader(db=db, query=query)\n",
    "db_docs = loader.load()"
   ]
  },
  {
   "cell_type": "code",
   "execution_count": 59,
   "id": "7c3c2b32",
   "metadata": {},
   "outputs": [
    {
     "data": {
      "text/plain": [
       "5"
      ]
     },
     "execution_count": 59,
     "metadata": {},
     "output_type": "execute_result"
    }
   ],
   "source": [
    "len(db_docs)"
   ]
  },
  {
   "cell_type": "code",
   "execution_count": 61,
   "id": "ead900f6",
   "metadata": {},
   "outputs": [
    {
     "data": {
      "text/plain": [
       "'id: 1\\nname: Laptop\\nprice: 1200.0\\nquantity: 10'"
      ]
     },
     "execution_count": 61,
     "metadata": {},
     "output_type": "execute_result"
    }
   ],
   "source": [
    "db_docs[0].page_content[:1000]  # Display the first 1000 characters of the first database document "
   ]
  },
  {
   "cell_type": "markdown",
   "id": "0dd252ea",
   "metadata": {},
   "source": [
    "# 8 Wikipedia Loader"
   ]
  },
  {
   "cell_type": "code",
   "execution_count": 62,
   "id": "d90498e3",
   "metadata": {},
   "outputs": [],
   "source": [
    "from langchain_community.document_loaders import WikipediaLoader"
   ]
  },
  {
   "cell_type": "code",
   "execution_count": 63,
   "id": "a1246401",
   "metadata": {},
   "outputs": [
    {
     "data": {
      "text/plain": [
       "25"
      ]
     },
     "execution_count": 63,
     "metadata": {},
     "output_type": "execute_result"
    }
   ],
   "source": [
    "wiki_loader = WikipediaLoader(query=\"Large Language Models\", lang=\"en\")\n",
    "wiki_docs = wiki_loader.load()\n",
    "len(wiki_docs)"
   ]
  },
  {
   "cell_type": "code",
   "execution_count": 64,
   "id": "008c848a",
   "metadata": {},
   "outputs": [
    {
     "data": {
      "text/plain": [
       "'A large language model (LLM) is a type of machine learning model (specifically a type of large X model (LxM)) designed for natural language processing tasks such as language generation. LLMs are language models with many parameters, and are trained with self-supervised learning on a vast amount of text.\\nThe largest and most capable LLMs are generative pretrained transformers (GPTs). Modern models can be fine-tuned for specific tasks or guided by prompt engineering. These models acquire predictive power regarding syntax, semantics, and ontologies inherent in human language corpora, but they also inherit inaccuracies and biases present in the data they are trained in.\\n\\n\\n== History ==\\n\\nBefore 2017, there were a few language models that were large as compared to capacities then available. In the 1990s, the IBM alignment models pioneered statistical language modelling. A smoothed n-gram model in 2001 trained on 300 million words achieved state-of-the-art perplexity at the time. In the 2000s'"
      ]
     },
     "execution_count": 64,
     "metadata": {},
     "output_type": "execute_result"
    }
   ],
   "source": [
    "wiki_docs[0].page_content[:1000]  # Display the first 1000 characters of the first Wikipedia document"
   ]
  },
  {
   "cell_type": "code",
   "execution_count": 65,
   "id": "332735e7",
   "metadata": {},
   "outputs": [
    {
     "data": {
      "text/plain": [
       "{'title': 'Large language model',\n",
       " 'summary': 'A large language model (LLM) is a type of machine learning model (specifically a type of large X model (LxM)) designed for natural language processing tasks such as language generation. LLMs are language models with many parameters, and are trained with self-supervised learning on a vast amount of text.\\nThe largest and most capable LLMs are generative pretrained transformers (GPTs). Modern models can be fine-tuned for specific tasks or guided by prompt engineering. These models acquire predictive power regarding syntax, semantics, and ontologies inherent in human language corpora, but they also inherit inaccuracies and biases present in the data they are trained in.',\n",
       " 'source': 'https://en.wikipedia.org/wiki/Large_language_model'}"
      ]
     },
     "execution_count": 65,
     "metadata": {},
     "output_type": "execute_result"
    }
   ],
   "source": [
    "wiki_docs[0].metadata"
   ]
  },
  {
   "cell_type": "code",
   "execution_count": 66,
   "id": "91b734dc",
   "metadata": {},
   "outputs": [
    {
     "name": "stdout",
     "output_type": "stream",
     "text": [
      "The End\n"
     ]
    }
   ],
   "source": [
    "print(\"The End\")"
   ]
  }
 ],
 "metadata": {
  "kernelspec": {
   "display_name": "Python 3",
   "language": "python",
   "name": "python3"
  },
  "language_info": {
   "codemirror_mode": {
    "name": "ipython",
    "version": 3
   },
   "file_extension": ".py",
   "mimetype": "text/x-python",
   "name": "python",
   "nbconvert_exporter": "python",
   "pygments_lexer": "ipython3",
   "version": "3.10.17"
  }
 },
 "nbformat": 4,
 "nbformat_minor": 5
}
