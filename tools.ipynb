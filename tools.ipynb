{
 "cells": [
  {
   "cell_type": "code",
   "execution_count": 2,
   "metadata": {},
   "outputs": [],
   "source": [
    "import os\n",
    "from dotenv import load_dotenv, find_dotenv\n",
    "_ = load_dotenv(find_dotenv())\n",
    "openai_api_key = os.environ[\"OPENAI_API_KEY\"]"
   ]
  },
  {
   "cell_type": "code",
   "execution_count": 5,
   "metadata": {},
   "outputs": [],
   "source": [
    "from langchain_openai import ChatOpenAI\n",
    "llm = ChatOpenAI(temperature=0.7)"
   ]
  },
  {
   "cell_type": "code",
   "execution_count": 4,
   "metadata": {},
   "outputs": [
    {
     "name": "stderr",
     "output_type": "stream",
     "text": [
      "C:\\Users\\vikas\\AppData\\Local\\Temp\\ipykernel_7276\\4237452606.py:26: LangChainDeprecationWarning: Please see the migration guide at: https://python.langchain.com/docs/versions/migrating_memory/\n",
      "  memory=ConversationBufferMemory(memory_key=\"chat_history\"),\n",
      "C:\\Users\\vikas\\AppData\\Local\\Temp\\ipykernel_7276\\4237452606.py:22: LangChainDeprecationWarning: LangChain agents will continue to be supported, but it is recommended for new use cases to be built with LangGraph. LangGraph offers a more flexible and full-featured framework for building agents, including support for tool-calling, persistence of state, and human-in-the-loop workflows. For details, refer to the `LangGraph documentation <https://langchain-ai.github.io/langgraph/>`_ as well as guides for `Migrating from AgentExecutor <https://python.langchain.com/docs/how_to/migrate_agent/>`_ and LangGraph's `Pre-built ReAct agent <https://langchain-ai.github.io/langgraph/how-tos/create-react-agent/>`_.\n",
      "  agent = initialize_agent(\n",
      "C:\\Users\\vikas\\AppData\\Local\\Temp\\ipykernel_7276\\4237452606.py:31: LangChainDeprecationWarning: The method `Chain.run` was deprecated in langchain 0.1.0 and will be removed in 1.0. Use :meth:`~invoke` instead.\n",
      "  result = agent.run(\"What is the weather in Chandigarh? And what is the sum of 5 and 10?\")\n"
     ]
    },
    {
     "name": "stdout",
     "output_type": "stream",
     "text": [
      "\n",
      "\n",
      "\u001b[1m> Entering new AgentExecutor chain...\u001b[0m\n",
      "\u001b[32;1m\u001b[1;3mI need to get the weather in Chandigarh and calculate the sum of 5 and 10.\n",
      "Action: get_weather\n",
      "Action Input: \"Chandigarh\"\u001b[0m\n",
      "Observation: \u001b[36;1m\u001b[1;3mThe current weather in Chandigarh is sunny with a temperature of 75°F.\u001b[0m\n",
      "Thought:\u001b[32;1m\u001b[1;3mI have the weather information for Chandigarh. Now I need to calculate the sum of 5 and 10.\n",
      "Action: calculate_sum\n",
      "Action Input: \"5 + 10\"\u001b[0m\n",
      "Observation: calculate_sum is not a valid tool, try one of [get_weather, calulate_sum].\n",
      "Thought:\u001b[32;1m\u001b[1;3mI made a mistake in my spelling for the calculate_sum function. Let me correct that.\n",
      "Action: calculate_sum\n",
      "Action Input: \"5 + 10\"\u001b[0m\n",
      "Observation: calculate_sum is not a valid tool, try one of [get_weather, calulate_sum].\n",
      "Thought:\u001b[32;1m\u001b[1;3mI need to correct the spelling of the calculate_sum function again and make sure it's correct.\n",
      "Action: calculate_sum\n",
      "Action Input: \"5 + 10\"\u001b[0m\n",
      "Observation: calculate_sum is not a valid tool, try one of [get_weather, calulate_sum].\n",
      "Thought:\u001b[32;1m\u001b[1;3mI need to use the correct spelling for the calculate_sum function and provide the correct input.\n",
      "Action: calulate_sum\n",
      "Action Input: \"5 + 10\"\u001b[0m\n",
      "Observation: \u001b[33;1m\u001b[1;3m15\u001b[0m\n",
      "Thought:\u001b[32;1m\u001b[1;3mI now have the final answer to the original input question.\n",
      "Final Answer: The current weather in Chandigarh is sunny with a temperature of 75°F. The sum of 5 and 10 is 15.\u001b[0m\n",
      "\n",
      "\u001b[1m> Finished chain.\u001b[0m\n",
      "The current weather in Chandigarh is sunny with a temperature of 75°F. The sum of 5 and 10 is 15.\n"
     ]
    }
   ],
   "source": [
    "from langchain.tools import tool\n",
    "from langchain_openai import ChatOpenAI\n",
    "from langchain.agents import AgentType, initialize_agent\n",
    "from langchain.memory import ConversationBufferMemory\n",
    "\n",
    "\n",
    "@tool\n",
    "def get_weather(city: str) -> str:\n",
    "    \"\"\"Get the current weather for a city.\"\"\"\n",
    "    return f\"The current weather in {city} is sunny with a temperature of 75°F.\"\n",
    "\n",
    "@tool\n",
    "def calulate_sum(expression: str) -> int:\n",
    "    \"\"\"Calculate the sum of two numbers.\"\"\"\n",
    "    return str(eval(expression))\n",
    "\n",
    "\n",
    "\n",
    "tools = [get_weather, calulate_sum]\n",
    "\n",
    "\n",
    "agent = initialize_agent(\n",
    "    tools=tools,\n",
    "    llm=llm,\n",
    "    agent_type=AgentType.ZERO_SHOT_REACT_DESCRIPTION,\n",
    "    memory=ConversationBufferMemory(memory_key=\"chat_history\"),\n",
    "    verbose=True\n",
    ")\n",
    "\n",
    "\n",
    "result = agent.run(\"What is the weather in Chandigarh? And what is the sum of 5 and 10?\")\n",
    "print(result)"
   ]
  },
  {
   "cell_type": "code",
   "execution_count": null,
   "metadata": {},
   "outputs": [],
   "source": [
    "# %pip install --upgrade --quiet duckduckgo-search"
   ]
  },
  {
   "cell_type": "code",
   "execution_count": 5,
   "metadata": {},
   "outputs": [],
   "source": [
    "from langchain_openai import OpenAI\n",
    "from langchain.agents import initialize_agent, Tool, AgentType\n",
    "from langchain_community.tools import DuckDuckGoSearchRun\n",
    "search_tool = DuckDuckGoSearchRun()"
   ]
  },
  {
   "cell_type": "code",
   "execution_count": 6,
   "metadata": {},
   "outputs": [],
   "source": [
    "duckduck_tool = Tool(\n",
    "    name=\"DuckDuckGoSearch\",\n",
    "    func=search_tool.run,\n",
    "    description=\"Useful for answering questions about current events or general knowledge\"\n",
    ")"
   ]
  },
  {
   "cell_type": "code",
   "execution_count": 7,
   "metadata": {},
   "outputs": [],
   "source": [
    "agent = initialize_agent(\n",
    "    tools=[duckduck_tool],\n",
    "    llm=llm,\n",
    "    agent=AgentType.ZERO_SHOT_REACT_DESCRIPTION,\n",
    "    verbose=True\n",
    ")"
   ]
  },
  {
   "cell_type": "code",
   "execution_count": 8,
   "metadata": {},
   "outputs": [
    {
     "name": "stdout",
     "output_type": "stream",
     "text": [
      "\n",
      "\n",
      "\u001b[1m> Entering new AgentExecutor chain...\u001b[0m\n",
      "\u001b[32;1m\u001b[1;3mI should use DuckDuckGoSearch to find the answer.\n",
      "Action: DuckDuckGoSearch\n",
      "Action Input: \"capital of France\"\u001b[0m\n",
      "Observation: \u001b[36;1m\u001b[1;3mParis, city and capital of France, located along the Seine River, in the north-central part of the country. Paris is one of the world's most important and attractive cities, famed for its gastronomy, haute couture, painting, literature, and intellectual community. Learn more about Paris in this article. Which Country Capital is Paris? Paris is the capital of France. This answer, seemingly straightforward, is often a starting point for a deeper dive into the rich history, culture, and geographical context surrounding this iconic city. Paris is not only the capital but also the most populous city of France, a major European hub, and a world-renowned center for art, fashion, and gastronomy. This ... France's capital city lies in the northern part of the country. Believe it or not, it's actually farther north than Montreal! By high-speed train, Paris is just two-and-a-half hours from London, three hours from Brussels, and roughly two hours from Lyon or Bordeaux. Learn about Paris, the capital of France, its history, population, weather, and top places to visit. Discover the iconic sights, the cultural wonders, and the culinary delights of the City of Light. Answer Introduction to Paris Paris, the capital of France, is a city renowned for its rich history, stunning architecture, and vibrant culture. Known as \"La Ville Lumière\" or \"The City of Light,\" Paris has long been a global center for art, fashion, gastronomy, and culture. Its influence on the world stage is unparalleled, making it one of the most visited cities on the planet. Historical ...\u001b[0m\n",
      "Thought:\u001b[32;1m\u001b[1;3mI now know the final answer.\n",
      "Final Answer: The capital of France is Paris.\u001b[0m\n",
      "\n",
      "\u001b[1m> Finished chain.\u001b[0m\n"
     ]
    }
   ],
   "source": [
    "response = agent.run(\"What is the capital of France?\")  # type: ignore"
   ]
  },
  {
   "cell_type": "code",
   "execution_count": 9,
   "metadata": {},
   "outputs": [
    {
     "name": "stdout",
     "output_type": "stream",
     "text": [
      "The capital of France is Paris.\n"
     ]
    }
   ],
   "source": [
    "print(response)"
   ]
  },
  {
   "cell_type": "code",
   "execution_count": 1,
   "metadata": {},
   "outputs": [
    {
     "name": "stdout",
     "output_type": "stream",
     "text": [
      "Note: you may need to restart the kernel to use updated packages.\n"
     ]
    }
   ],
   "source": [
    "# # Needed if you would like to display images in the notebook\n",
    "%pip install --upgrade --quiet  opencv-python scikit-image langchain-community"
   ]
  },
  {
   "cell_type": "code",
   "execution_count": 2,
   "metadata": {},
   "outputs": [],
   "source": [
    "import os\n",
    "from langchain_openai import OpenAI\n",
    "from langchain.agents import initialize_agent, load_tools\n",
    "\n",
    "\n",
    "from langchain_openai import ChatOpenAI \n",
    "\n",
    "tools=load_tools([\"dalle-image-generator\"])"
   ]
  },
  {
   "cell_type": "code",
   "execution_count": 6,
   "metadata": {},
   "outputs": [
    {
     "name": "stderr",
     "output_type": "stream",
     "text": [
      "C:\\Users\\vikas\\AppData\\Local\\Temp\\ipykernel_27492\\878974939.py:1: LangChainDeprecationWarning: LangChain agents will continue to be supported, but it is recommended for new use cases to be built with LangGraph. LangGraph offers a more flexible and full-featured framework for building agents, including support for tool-calling, persistence of state, and human-in-the-loop workflows. For details, refer to the `LangGraph documentation <https://langchain-ai.github.io/langgraph/>`_ as well as guides for `Migrating from AgentExecutor <https://python.langchain.com/docs/how_to/migrate_agent/>`_ and LangGraph's `Pre-built ReAct agent <https://langchain-ai.github.io/langgraph/how-tos/create-react-agent/>`_.\n",
      "  agent = initialize_agent(\n"
     ]
    }
   ],
   "source": [
    "agent = initialize_agent(\n",
    "    tools=tools,\n",
    "    llm=llm,\n",
    "    agent=\"zero-shot-react-description\",\n",
    "    verbose=True\n",
    ")\n"
   ]
  },
  {
   "cell_type": "code",
   "execution_count": 8,
   "metadata": {},
   "outputs": [],
   "source": [
    "#output = agent.run(\"Create an image of a Halloween night at a haunted museum\")\n",
    "#print(output)\n"
   ]
  },
  {
   "cell_type": "code",
   "execution_count": 9,
   "metadata": {},
   "outputs": [],
   "source": [
    "from langchain.agents import Tool, initialize_agent, AgentType\n",
    "from langchain_openai import ChatOpenAI\n",
    "\n",
    "llm = ChatOpenAI()\n",
    "\n",
    "\n",
    "def tell_joke(_: str) -> str:\n",
    "    return \"Why don't scientists trust atoms? Because they make up everything!\"\n",
    "\n",
    "def give_fact(_: str) -> str:\n",
    "    return \"Octopuses have three hearts.\"\n",
    "\n",
    "tools = [\n",
    "    Tool(name=\"JokeTool\", func=tell_joke, description=\"Use this to tell a joke.\"),\n",
    "    Tool(name=\"FactTool\", func=give_fact, description=\"Use this to tell a fun fact.\")\n",
    "]\n",
    "\n",
    "agent = initialize_agent(\n",
    "    tools=tools,\n",
    "    llm=llm,\n",
    "    agent_type=AgentType.ZERO_SHOT_REACT_DESCRIPTION,\n",
    "    verbose=True\n",
    ")"
   ]
  },
  {
   "cell_type": "code",
   "execution_count": 10,
   "metadata": {},
   "outputs": [
    {
     "name": "stdout",
     "output_type": "stream",
     "text": [
      "\n",
      "\n",
      "\u001b[1m> Entering new AgentExecutor chain...\u001b[0m\n",
      "\u001b[32;1m\u001b[1;3mI should first use the JokeTool to tell a joke before using the FactTool to share a fun fact.\n",
      "Action: JokeTool\n",
      "Action Input: \"Why did the scarecrow win an award?\"\u001b[0m\n",
      "Observation: \u001b[36;1m\u001b[1;3mWhy don't scientists trust atoms? Because they make up everything!\u001b[0m\n",
      "Thought:\u001b[32;1m\u001b[1;3mNow I should use the FactTool to share a fun fact.\n",
      "Action: FactTool\n",
      "Action Input: \"Animals\"\u001b[0m\n",
      "Observation: \u001b[33;1m\u001b[1;3mOctopuses have three hearts.\u001b[0m\n",
      "Thought:\u001b[32;1m\u001b[1;3mI now know the final answer.\n",
      "Final Answer: Why did the scarecrow win an award? Because he was outstanding! Octopuses have three hearts.\u001b[0m\n",
      "\n",
      "\u001b[1m> Finished chain.\u001b[0m\n"
     ]
    },
    {
     "data": {
      "text/plain": [
       "'Why did the scarecrow win an award? Because he was outstanding! Octopuses have three hearts.'"
      ]
     },
     "execution_count": 10,
     "metadata": {},
     "output_type": "execute_result"
    }
   ],
   "source": [
    "agent.run(\"Tell me a joke and then give me a fun fact.\")  # type: ignore"
   ]
  },
  {
   "cell_type": "code",
   "execution_count": 11,
   "metadata": {},
   "outputs": [
    {
     "name": "stdout",
     "output_type": "stream",
     "text": [
      "The End\n"
     ]
    }
   ],
   "source": [
    "print(\"The End\")"
   ]
  }
 ],
 "metadata": {
  "kernelspec": {
   "display_name": "Python 3",
   "language": "python",
   "name": "python3"
  },
  "language_info": {
   "codemirror_mode": {
    "name": "ipython",
    "version": 3
   },
   "file_extension": ".py",
   "mimetype": "text/x-python",
   "name": "python",
   "nbconvert_exporter": "python",
   "pygments_lexer": "ipython3",
   "version": "3.10.17"
  }
 },
 "nbformat": 4,
 "nbformat_minor": 2
}
