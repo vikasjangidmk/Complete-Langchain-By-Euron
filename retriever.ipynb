{
 "cells": [
  {
   "cell_type": "code",
   "execution_count": 1,
   "id": "bdd2b4e0",
   "metadata": {},
   "outputs": [],
   "source": [
    "import os\n",
    "from dotenv import load_dotenv\n",
    "# Load environment variables from .env file\n",
    "load_dotenv()\n",
    "# Get the value of the environment variable\n",
    "openai_api_key = os.getenv(\"OPENAI_API_KEY\")"
   ]
  },
  {
   "cell_type": "markdown",
   "id": "9e5711b0",
   "metadata": {},
   "source": [
    "# **Web Base Loader**"
   ]
  },
  {
   "cell_type": "code",
   "execution_count": 2,
   "id": "6b0b8afa",
   "metadata": {},
   "outputs": [],
   "source": [
    "from langchain_openai import ChatOpenAI\n",
    "llm = ChatOpenAI()"
   ]
  },
  {
   "cell_type": "code",
   "execution_count": 3,
   "id": "70e2622f",
   "metadata": {},
   "outputs": [
    {
     "name": "stderr",
     "output_type": "stream",
     "text": [
      "USER_AGENT environment variable not set, consider setting it to identify your requests.\n"
     ]
    }
   ],
   "source": [
    "from langchain_community.document_loaders import WebBaseLoader\n",
    "from langchain_text_splitters import RecursiveCharacterTextSplitter\n",
    "\n",
    "# Load the web page content\n",
    "loader = WebBaseLoader(\"https://www.theguardian.com/us\")\n",
    "\n",
    "document = loader.load()"
   ]
  },
  {
   "cell_type": "code",
   "execution_count": 4,
   "id": "f824452f",
   "metadata": {},
   "outputs": [],
   "source": [
    "from langchain.vectorstores import Chroma\n",
    "from langchain_openai import OpenAIEmbeddings\n",
    "\n",
    "embeddings = OpenAIEmbeddings()\n",
    "\n",
    "vectorstore = Chroma.from_documents(\n",
    "    documents=document,\n",
    "    embedding=embeddings,\n",
    "    persist_directory=\"chroma_store\"\n",
    ")"
   ]
  },
  {
   "cell_type": "code",
   "execution_count": 5,
   "id": "a179b8e3",
   "metadata": {},
   "outputs": [],
   "source": [
    "from langchain.chains import RetrievalQA\n",
    "\n",
    "retriever = vectorstore.as_retriever()\n",
    "\n",
    "\n",
    "qa_chain = RetrievalQA.from_chain_type(\n",
    "    llm=llm,\n",
    "    chain_type=\"stuff\",\n",
    "    retriever=retriever,\n",
    "    return_source_documents=True\n",
    ")"
   ]
  },
  {
   "cell_type": "code",
   "execution_count": 8,
   "id": "43a815e9",
   "metadata": {},
   "outputs": [
    {
     "name": "stdout",
     "output_type": "stream",
     "text": [
      "{'query': 'What is the latest news of Guardian?', 'result': \"The latest news from The Guardian includes stories about Donald Trump's Memorial Day speech, a car ploughing into a crowd at a Liverpool FC victory parade, Russia targeting Ukraine with drone strikes, and more.\", 'source_documents': [Document(metadata={'description': \"Latest US news, world news, sports, business, opinion, analysis and reviews from the Guardian, the world's leading liberal voice\", 'language': 'en', 'source': 'https://www.theguardian.com/us', 'title': 'Latest news, sport and opinion from the Guardian'}, page_content=\"\\n\\n\\n\\n\\nLatest news, sport and opinion from the Guardian\\n\\n\\n\\n\\n\\n\\n\\n\\n\\n\\n\\n\\n\\n\\n\\n\\n\\n\\n\\n\\n\\n\\n\\n\\n\\n\\n\\n\\n\\n\\n\\n\\n\\n\\n\\n\\n\\n\\n\\n\\n\\n\\n\\n\\n\\n\\n\\n\\n\\n\\n\\n\\n\\n\\n\\n\\n\\n\\n\\n\\n\\nSkip to main contentSkip to navigationPrint subscriptionsSearch jobs Sign inCrimeThe terrifying rise of secret camerasWildlifeThe last-ditch race to save the Orinoco crocodileGallery26The long readAn ancient skull, a disputed femur and a bitter feud over humanity’s originsJan-Werner MüllerTrump’s revenge on Harvard echoes beyond educationFilmShould straight actors play queer characters?Alan Alda On childhood, marriage and stardomEditionInternational editionUK editionUS editionAustralia editionEurope editionThe Guardian - Back to homeThe GuardianNewsOpinionSportCultureLifestyleShow moreHide expanded menuNewsView all NewsWorld newsUS politicsUK newsClimate crisisMiddle EastUkraineEnvironmentScienceGlobal developmentFootballTechBusinessObituariesOpinionView all OpinionThe Guardian viewColumnistsCartoonsOpinion videosLettersSportView all SportFootballCricketRugby unionTennisCyclingF1GolfUS sportsCultureView all CultureBooksMusicTV & radioArt & designFilmGamesClassicalStageLifestyleView all LifestyleFashionFoodRecipesLove & sexHealth & fitnessHome & gardenWomenMenFamilyTravelMoneySearch input google-search SearchSupport usPrint subscriptionsSearch jobsHolidaysDigital ArchiveGuardian LicensingAbout UsThe Guardian appVideoPodcastsPicturesNewslettersToday's paperInside the GuardianGuardian WeeklyCrosswordsWordiplyCorrectionsSearch input google-search SearchSearch jobsHolidaysDigital ArchiveGuardian LicensingAbout UsWorldUS politicsUKClimate crisisMiddle EastUkraineEnvironmentScienceGlobal developmentFootballTechBusinessObituariesYou are viewing the US homepage\\xa0View the International homepageNewsHideDonald TrumpTrump peppers Memorial Day speech with personal boasting and partisan attacksPresident paid tribute to fallen soldiers at Arlington cemetery, and also veered off into rally-style remarks8h agoTrump administration briefingHarvard threatened with more cuts as foreign universities seek to attract studentsHarvardFormer Harvard president urges people to ‘speak out’ against threats to US democracyTariffsEU hopes for quick deal to resolve US trade war after Trump delays 50% tariffsTrump administration briefingHarvard threatened with more cuts as foreign universities seek to attract studentsHarvardFormer Harvard president urges people to ‘speak out’ against threats to US democracyTariffsEU hopes for quick deal to resolve US trade war after Trump delays 50% tariffsEnglandNearly 50 injured after car ploughs into crowd at Liverpool FC victory parade10h agoUkraineRussia targets Ukraine with more drone strikes as Trump says Putin has ‘gone crazy’Ukraine war briefingKremlin suggests Trump remarks about Putin due to ‘emotional overload’Arms rangeGermany and Ukraine’s other allies scrap range limits on arms sent to KyivEmmanuel MacronFrench president says video of wife pushing him in face does not show them quarrellingNuclear weaponsFrance spent €90,000 countering research into impact of Pacific nuclear tests1h agoHouse of RepresentativesCharles Rangel, former Harlem congressman, dies aged 9410h agoIsrael-Gaza warHead of US-backed Gaza aid group resigns, saying he will not abandon ‘principles’Jake Wood’s resignation comes after the Gaza Humanitarian Foundation faced criticism from the UN and other aid groupsIsrael-Gaza warUS-backed aid group says Gaza operations have begun a day after its director resignedGazaGaza’s youngest influencer aged 11 among children killed by Israeli strikesIsraelThousands of Israelis join violent, racist march through Jerusalem’s Muslim quarterErin Patterson murder trial liveWitnesses in mushroom trial continue giving evidence on day 20 of case26s agoSharksMan swims 62 miles around Martha’s Vineyard to press for protections for sharks10h agoTrump presidencyHideDonald TrumpTrump’s foreign policy is not so unusual for the US – he just drops the facade of moral leadershipLos AngelesTrump’s mass federal cuts disrupt LA wildfire recovery: ‘It’s coming tumbling down’DemocratsRun for Something co-founder: ‘Democrats’ reliance on seniority is our downfall’Foreign policyTrump and Pete Hegseth inspiring Islamic State recruitment propagandaIn focusHide‘Swimming with orcas is out of control’Can new rules keep tourists and Mexico’s whales safe?Experts are calling for stricter limits on numbers of those flocking to Baja California Sur to swim with the animals in the wild. But some local tour operators are not convinced2h ago‘I just want security’Fear remains for Syrian massacre survivors awaiting justice2h agoThe long readThe curse of Toumaï: an ancient skull, a disputed femur and a bitter feud over humanity’s origins2h agoFeaturesHideInterview‘My mother didn’t try to stab my father until I was six’: Alan Alda on childhood, marriage and 60 years of stardomFilm‘People raised hell’: why shouldn’t Scarlett Johansson and James Franco play queer characters?More featuresHideFashionFilm stars, photographers and fans: the other side of Cannes Gallery11EnvironmentCalifornia gardeners plant native species in parks to prevent wildfire spread – in picturesGallery10The one change that workedI finally got my spending under controlTelevisionSex up the sexting! Why text messages are the hot new boom area in TV showsHealthThe private pain of prolapse: six things I wish I’d known – from sex to exercise to mental healthMusicSoul icon Irma Thomas on the Stones, segregation and survival: ‘Restaurants refused to serve us – we lived on sardines and crackers’OpinionHideLabour is taking the Pip – and disabled people have had enoughCherylee HoustonI am in tears reading the stories of what might happen if these further cuts go ahead, which is why I’ve joined forces with others to demand action, says actor Cherylee Houston1h agoTrump’s revenge spree on Harvard echoes well beyond educationJan-Werner MüllerAttacks on the university make clear that the administration will wield its power against anyone who incurs its displeasureThe turning point that wasn’t: the way the world talks about Israel’s war has changed. Nothing else hasNesrine MalikWe demanded justice after George Floyd’s death. Donald Trump made things worse, but we fight onAl SharptonMore opinionHideWhite men are apparently terrified of doing the wrong thing at work. I have some adviceGaby HinsliffCould the right question bring some magic to your meetings?Emma Beddington…… commentsHow Trump has turbocharged a Canadian province’s quest for independence Lisa Young…… commentsIf you think the Defund movement failed, you’re missing the bigger pictureM Adams and Miski NoorEditorialsHideThe Guardian viewTrump’s ‘big beautiful bill’: reject the con of a class-war manifesto…… commentsThe Guardian viewEd Davey’s mission: build politics around care. If not, cruelty will define it  SportsHideSoccerA day of joy and celebration for Liverpool turned into one of horrorAbout 500,000 people were watching the Premier League winners’ trophy parade when a car ploughed into crowds8h agoUpdatesLiverpool title parade collision: 27 people in hospital, two seriously injuredReportMan arrested after car hits pedestrians during Liverpool victory paradeUpdatesLiverpool title parade collision: 27 people in hospital, two seriously injuredReportMan arrested after car hits pedestrians during Liverpool victory paradeNBAThunder stifle Edwards to move one win from NBA finals3h agoWNBAClark out for at least two weeks for Indiana Fever with quad strainFrench OpenUS shocks as top-10 seeds Fritz and Navarro lose in first roundFrench OpenRaducanu admits struggle in gritty three-set win over WangDay twoAlcaraz and Altmaier through, Badosa beats OsakaFormula OneTeam heads call for Monaco to ‘move with times’ and make track changeSoccer with Jonathan Wilson: The latest on the global gameMore sportsHideTennisDjokovic says he remains close to ‘amazing person’ Murray after coaching split9h agoSoccerAlonso sets out plan to make Real Madrid players ‘flourish’ in new eraVilla’s Champions League miss wasn’t just about one bad callJonathan WilsonNBAConnection, normalcy and fierce loyalty: why life is sweet on small-market teamsMore newsHideWeatherUS faces another summer of extreme heat as fears rise over Trump cutsBrutal heat and drought expected to blanket country from Nevada to Florida as experts worry climate cuts will burnSpainSpain braces for late May heatwave with 40C forecast in south of countrySpainSpain braces for late May heatwave with 40C forecast in south of countryChinaPoorest 75 nations face ‘tidal wave’ of debt repayments to China in 2025, study warns30m agoJapanJapan introduces rules to put outlandish baby names to bed2h agoUK newsAnother Windrush generation man has UK deportation order revoked24m agoMongoliaMongolia PM expected to call vote of confidence in the face of protests4h agoLouisianaFamily rallies around boy who lost parents in separate crashes hours apartEUEU officials accuse bloc of taking little action on GazaAustralia‘Who died?’: Erin Patterson ‘surprised’ when police told her of mushroom lunch guests’ deaths, trial hears55m agoJapanHoliday bookings to Japan are down - could a 90s manga comic’s earthquake prediction be to blame?More climate crisis & environmentHideWildlifeThe last-ditch race to save the Orinoco crocodileGallery26EnvironmentTrump vowed to help US farmers. These four say his policies are ‘wreaking havoc’Weather trackerChina rainfall triggers flash floods and landslidesFloridaScientists seek to save Florida’s dying reefs with hardy nursery-grown coralMore US newsHideFBIFBI to reinvestigate 2023 White House cocaine find and leak of supreme court Dobbs draftUS politicsTop Republicans threaten to block Trump’s spending bill if national debt is not reducedImmigrationUS police officer resigns after wrongfully arresting undocumented teenThe 'dissident' rightRemote Wyoming vacation lodge emerges as haven for US ‘dissident’ rightMore world newsHideGermanySyrian refugee, 19, praised after pinning down assailant in Hamburg knife attackNew ZealandNew Zealand teenager dies after tackle game linked to viral Run It Straight challenge32m agoCannes Jafar Panahi returns to Iran in triumph after Palme d’Or winCrimeMan arrested for allegedly trying to firebomb US embassy office in IsraelCultureHideFilmNo meat, no beer and hopefully no poison: the curious tale of Hitler’s food tastersMy feelgood movie‘I smile every time’: why Amélie is my feelgood movie…… commentsWhat to watchHideTVThe Rehearsal season two review – TV so wild you will have no idea how they made it9h agoTVThe Last of Us recap – well, that was a frustrating finale9h ago…… commentsFilmAmongst the Wolves review – drills and chills in Irish gangster thrillerFilmHello Stranger review – interactive thriller puts remote worker in trial-by-internetWhat to listen toHideClassical musicI Fagiolini review – startlingly intense surround-sound baroque12h agoBest podcasts of the weekMel Giedroyc immerses herself in death: best podcasts of the weekFolk musicFolk, fiddles and foot-stomping: how gen Z rebooted old-school Norwegian music…… commentsMusicKneecap review – rap trio remain unbowed by terror chargeWhat to readHideBook of the dayThe Haves and Have-Yachts by Evan Osnos review – inside the world of the ultrarichBooksGertrude Stein: an Afterlife by Francesca Wade – how a literary legend was made BooksOriginal Sin: how Team Biden wished away his decline until it was too lateBooksAmerican Dirt author Jeanine Cummins: ‘I didn’t need to justify my right to write that book’What to playHideGamesUnreal estate: the 12 greatest homes in video game history…… commentsGames‘Shakespeare would be writing for games today’: Cannes’ first video game Lili is a retelling of MacbethPushing ButtonsIs the Nintendo Switch the best console of its generation – or just the most meaningful to me?NewsletterGamesDeliver at All Costs review – madcap driving game goes nowhere fastMore cultureHidePhotography‘The only place nudity was tolerated’: stripping off on Soviet beachesGallery11In picturesFirestorms, county fairs and chimp hospitals: winners of the All About Photo awards 2025Gallery12MusicLorde surprises fans by crashing Lorde club night in Sydney: ‘She almost refused to leave’The Guardian picture essay‘Tomorrow today’: Porto biennial shows photography as catalyst for change – a photo essayLifestyleHideA new start after 60I became a dog-walker – and I’ve never been happierWalking holidaysIn the company of wolves … and Romans: hiking Portugal’s only national parkWell actuallyHideIs it true that …… detox diets flush toxins out of your body?PsychologySystems are crumbling –\\xa0but daily life continues. The dissonance is realFitnessDo you really need to do Kegels? Physicians on five common pelvic floor mythsHow to startCleanse, moisturize and protect: how to start a skincare routineSex & relationships HideThe moment I knewI was complaining about my mum, and his tender response changed my life…… commentsAsk Annalisa BarbieriI’m smitten, but I am worried that my boyfriend’s dysfunctional family will impact our relationship…… commentsKindness of strangersI thought my wages would be docked but the customer I’d overpaid returned…… commentsThis is how we do it‘I was twice her age, married and her boss. I questioned whether I was a bad person’More lifestyleHideFoodGeorgina Hayden’s recipe for spinach, trout and caper dutch baby1h ago…… commentsMenHow my friend fell for the manosphere huckstersPass notesThe poop rule: is this the most disgusting decluttering method ever?‘Greenwashing is rife’:Is Amy Powney the most sustainable designer in fashion?You may have missedHideWrestlingChina’s pro-wrestlers search for a star to bring the sport out of the shadowsElon MuskWhatever happened to Elon Musk? Tech boss drifts to margins of Trump worldIsrael-Gaza war‘One of the most heartbreaking tragedies’: Gaza doctor’s last goodbye before nine children killed in airstrikeTake partHideUS universitiesUS university scholars and international students: are you considering working or studying elsewhere?US nursing home employeesDo you have information about UnitedHealth’s nursing home practices?RelationshipsHow has your sex life changed after 60?PhotographyHave your photos published in the Guardian’s letters sectionNewslettersHideFoodSign up for the Detox Your Kitchen newsletter on avoiding potentially harmful chemicals in your foodNewsletterNewsSign up for The Long Wave newsletter: our weekly Black life and culture emailNewsletterUS democracySign up for Fighting Back: a pop-up newsletter on defending democracy under TrumpNewsletterWellnessSign up for Well Actually: a free weekly newsletter about health and wellnessNewsletterIn pictures HidePhotos of the dayAirstrikes in Gaza and flooding in MumbaiThe Guardian’s picture editors select photographs from around the worldGallery15Most popularHideMost viewedWhat readers are clicking onNearly 50 injured after car ploughs into crowd at Liverpool FC victory paradeLouisiana family rallies around boy who lost parents in separate crashes hours apartTourists from countries badly hit by Trump tariffs are staying away from USUkraine war briefing: Kremlin suggests Trump remarks about Putin due to ‘emotional overload’Emmanuel Macron says video of wife pushing him shows them ‘joking around’‘My mother didn’t try to stab my father until I was six’: Alan Alda on childhood, marriage and 60 years of stardomTrump in Memorial Day speech says: ‘I have everything. Amazing, the way things work out’ – as it happenedThousands of Israelis join violent, racist march through Jerusalem’s Muslim quarterThe poop rule: is this the most disgusting decluttering method ever?Moment Macron appears to be pushed in face by wife as they land in Vietnam –\\xa0videoDeeply readWhat readers are spending time with (Learn more)F1 team heads call for Monaco to ‘move with the times’ and make track changeTrump peppers Memorial Day speech with personal boasting and partisan attacksJames Milner opens up on nine-month absence: ‘I didn’t know if I could walk properly again’Japan introduces rules to put outlandish baby names to bedThe Last of Us recap: season two, episode seven – well, that was a frustrating finaleSyrian refugee, 19, praised after pinning down assailant in Hamburg knife attackA day of joy and celebration for Liverpool turned into one of horrorFrench Open: US shocks as top-10 seeds Fritz and Navarro lose in first roundThe Guardian view on Trump’s ‘big beautiful bill’: reject the con of a class-war manifestoSoul icon Irma Thomas on the Stones, segregation and survival: ‘Restaurants refused to serve us – we lived on sardines and crackers’Explore more on these topicsUS politicsTrump administrationDonald TrumpEuropeMiddle East and north AfricaWorldUS politicsUKClimate crisisMiddle EastUkraineEnvironmentScienceGlobal developmentFootballTechBusinessObituariesNewsOpinionSportCultureLifestyleOriginal reporting and incisive analysis, direct from the Guardian every morningSign up for our emailHelpComplaints & correctionsSecureDropWork for us\\xa0Privacy policyCookie policyTerms & conditionsContact usAll topicsAll writersDigital newspaper archiveTax strategyFacebookYouTubeInstagramLinkedInNewslettersAdvertise with usSearch UK jobsBack to top© 2025 Guardian News & Media Limited or its affiliated companies. All rights reserved. (dcr)\\n\\n\")]}\n"
     ]
    }
   ],
   "source": [
    "response=qa_chain.invoke(\"What is the latest news of Guardian?\")\n",
    "print(response)"
   ]
  },
  {
   "cell_type": "markdown",
   "id": "6b7c132a",
   "metadata": {},
   "source": [
    "# **WikiPediaRetriever**"
   ]
  },
  {
   "cell_type": "code",
   "execution_count": 9,
   "id": "94e031ae",
   "metadata": {},
   "outputs": [
    {
     "name": "stdout",
     "output_type": "stream",
     "text": [
      "Title: Python (programming language)\n",
      "Content: Python is a high-level, general-purpose programming language. Its design philosophy emphasizes code readability with the use of significant indentation.\n",
      "Python is dynamically type-checked and garbage-...\n",
      "--------------------------------------------------------------------------------\n",
      "Title: History of Python\n",
      "Content: The programming language Python was conceived in the late 1980s, and its implementation was started in December 1989 by Guido van Rossum at CWI in the Netherlands as a successor to ABC capable of exce...\n",
      "--------------------------------------------------------------------------------\n",
      "Title: Mojo (programming language)\n",
      "Content: Mojo is a programming language in the Python family that is currently under development. It is available both in browsers via Jupyter notebooks, and locally on Linux and macOS. Mojo aims to combine th...\n",
      "--------------------------------------------------------------------------------\n"
     ]
    }
   ],
   "source": [
    "from langchain.retrievers import WikipediaRetriever\n",
    "\n",
    "retriever = WikipediaRetriever()\n",
    "\n",
    "result = retriever.invoke(\"Python programming language\")\n",
    "\n",
    "for doc in result:\n",
    "    print(f\"Title: {doc.metadata['title']}\")\n",
    "    print(f\"Content: {doc.page_content[:200]}...\")  # Print first 200 characters of content\n",
    "    print(\"-\" * 80)  # Separator for readability"
   ]
  },
  {
   "cell_type": "markdown",
   "id": "c6ae8496",
   "metadata": {},
   "source": [
    "# **Multi Query Retriever**"
   ]
  },
  {
   "cell_type": "code",
   "execution_count": 11,
   "id": "2e85f3e1",
   "metadata": {},
   "outputs": [],
   "source": [
    "from langchain_openai import ChatOpenAI, OpenAIEmbeddings\n",
    "from langchain.vectorstores import Chroma, FAISS\n",
    "from langchain.schema import Document\n",
    "from langchain.retrievers import  MultiQueryRetriever"
   ]
  },
  {
   "cell_type": "code",
   "execution_count": 12,
   "id": "404cf202",
   "metadata": {},
   "outputs": [],
   "source": [
    "llm = ChatOpenAI()"
   ]
  },
  {
   "cell_type": "code",
   "execution_count": 13,
   "id": "0168694c",
   "metadata": {},
   "outputs": [],
   "source": [
    "docs = [\n",
    "    Document(page_content=\"langchain is a framework for building applications with LLMs\"),\n",
    "    Document(page_content=\"langchain enables the development of applications that can reason, plan, and execute tasks\"),\n",
    "    Document(page_content=\"langchain is a powerful tool for building AI applications\"),\n",
    "    Document(page_content=\"langchain provides a simple interface for working with LLMs and other AI models\"),\n",
    "    Document(page_content=\"langchain is designed to be flexible and extensible, allowing developers to create custom applications\"),\n",
    "    Document(page_content=\"langchain supports a wide range of AI models and frameworks, making it easy to integrate with existing systems\"),\n",
    "    Document(page_content=\"langchain is an open-source project that encourages collaboration and community contributions\"),\n",
    "    Document(page_content=\"langchain is a versatile framework that can be used for various AI applications, including chatbots, virtual assistants, and more\"),\n",
    "    Document(page_content=\"langchain is a rapidly evolving framework with a growing ecosystem of tools and resources\"),\n",
    "]"
   ]
  },
  {
   "cell_type": "code",
   "execution_count": 14,
   "id": "a72fd0f2",
   "metadata": {},
   "outputs": [
    {
     "data": {
      "text/plain": [
       "<langchain_community.vectorstores.faiss.FAISS at 0x246473057b0>"
      ]
     },
     "execution_count": 14,
     "metadata": {},
     "output_type": "execute_result"
    }
   ],
   "source": [
    "embeddings = OpenAIEmbeddings()\n",
    "\n",
    "vectorstore = FAISS.from_documents(docs, embeddings)\n",
    "vectorstore"
   ]
  },
  {
   "cell_type": "code",
   "execution_count": 17,
   "id": "b347398a",
   "metadata": {},
   "outputs": [],
   "source": [
    "multi_query_retriever = MultiQueryRetriever.from_llm(\n",
    "    llm=llm,\n",
    "    retriever=vectorstore.as_retriever(search_kwargs={\"k\": 2})\n",
    ")"
   ]
  },
  {
   "cell_type": "code",
   "execution_count": 18,
   "id": "2713ecba",
   "metadata": {},
   "outputs": [],
   "source": [
    "query = \"Explain langchain in one sentence\"\n",
    "result = multi_query_retriever.invoke(query)"
   ]
  },
  {
   "cell_type": "code",
   "execution_count": 19,
   "id": "d192f493",
   "metadata": {},
   "outputs": [
    {
     "name": "stdout",
     "output_type": "stream",
     "text": [
      "Result 1: langchain is a framework for building applications with LLMs\n",
      "--------------------------------------------------------------------------------\n",
      "Result 2: langchain is an open-source project that encourages collaboration and community contributions\n",
      "--------------------------------------------------------------------------------\n",
      "Result 3: langchain provides a simple interface for working with LLMs and other AI models\n",
      "--------------------------------------------------------------------------------\n",
      "Result 4: langchain is a powerful tool for building AI applications\n",
      "--------------------------------------------------------------------------------\n"
     ]
    }
   ],
   "source": [
    "for i, doc in enumerate(result):\n",
    "    print(f\"Result {i + 1}: {doc.page_content}\")\n",
    "    print(\"-\" * 80)  # Separator for readability"
   ]
  },
  {
   "cell_type": "markdown",
   "id": "22d33479",
   "metadata": {},
   "source": [
    "# **Contxtual Retriever**"
   ]
  },
  {
   "cell_type": "code",
   "execution_count": 20,
   "id": "7911f2cf",
   "metadata": {},
   "outputs": [],
   "source": [
    "from langchain.retrievers import ContextualCompressionRetriever\n",
    "from langchain.retrievers.document_compressors import LLMChainExtractor\n",
    "\n",
    "from langchain.vectorstores import FAISS\n",
    "from langchain.schema import Document\n",
    "\n",
    "from langchain_openai import ChatOpenAI, OpenAIEmbeddings"
   ]
  },
  {
   "cell_type": "code",
   "execution_count": 21,
   "id": "b175c7bf",
   "metadata": {},
   "outputs": [],
   "source": [
    "llm = ChatOpenAI(temperature=0)\n",
    "embeddings = OpenAIEmbeddings()"
   ]
  },
  {
   "cell_type": "code",
   "execution_count": 22,
   "id": "95aad261",
   "metadata": {},
   "outputs": [],
   "source": [
    "documents = [\n",
    "    Document(page_content=\"LangChain allows you to build applications using LLMs like GPT-4.\"),\n",
    "    Document(page_content=\"It supports memory, chains, tools, agents, and retrievers.\"),\n",
    "    Document(page_content=\"FAISS is a library used for vector similarity search.\"),\n",
    "    Document(page_content=\"LangChain is highly modular and supports plug-and-play components.\"),\n",
    "    Document(page_content=\"Chroma is another vector store like FAISS, used for storing embeddings.\")\n",
    "]"
   ]
  },
  {
   "cell_type": "code",
   "execution_count": 23,
   "id": "e10c80c7",
   "metadata": {},
   "outputs": [],
   "source": [
    "vectorstore = FAISS.from_documents(documents, embeddings)"
   ]
  },
  {
   "cell_type": "code",
   "execution_count": 24,
   "id": "978fb261",
   "metadata": {},
   "outputs": [],
   "source": [
    "base_retriever= vectorstore.as_retriever(search_kwargs={\"k\": 4})"
   ]
  },
  {
   "cell_type": "code",
   "execution_count": 25,
   "id": "7edc3934",
   "metadata": {},
   "outputs": [
    {
     "data": {
      "text/plain": [
       "VectorStoreRetriever(tags=['FAISS', 'OpenAIEmbeddings'], vectorstore=<langchain_community.vectorstores.faiss.FAISS object at 0x0000024647307910>, search_kwargs={'k': 4})"
      ]
     },
     "execution_count": 25,
     "metadata": {},
     "output_type": "execute_result"
    }
   ],
   "source": [
    "base_retriever"
   ]
  },
  {
   "cell_type": "code",
   "execution_count": 26,
   "id": "ac7e3cc2",
   "metadata": {},
   "outputs": [],
   "source": [
    "compressor= LLMChainExtractor.from_llm(llm=llm)"
   ]
  },
  {
   "cell_type": "code",
   "execution_count": 27,
   "id": "a8f672b3",
   "metadata": {},
   "outputs": [],
   "source": [
    "compression_retriever= ContextualCompressionRetriever(\n",
    "   base_retriever=base_retriever,\n",
    "   base_compressor=compressor\n",
    ")"
   ]
  },
  {
   "cell_type": "code",
   "execution_count": 28,
   "id": "955b9bc0",
   "metadata": {},
   "outputs": [],
   "source": [
    "results =compression_retriever.invoke(\"What does langchain enable?\")"
   ]
  },
  {
   "cell_type": "code",
   "execution_count": 29,
   "id": "cb4b6e73",
   "metadata": {},
   "outputs": [
    {
     "data": {
      "text/plain": [
       "[Document(metadata={}, page_content='LangChain allows you to build applications using LLMs like GPT-4.'),\n",
       " Document(metadata={}, page_content='LangChain is highly modular and supports plug-and-play components.'),\n",
       " Document(metadata={}, page_content='It supports memory, chains, tools, agents, and retrievers.')]"
      ]
     },
     "execution_count": 29,
     "metadata": {},
     "output_type": "execute_result"
    }
   ],
   "source": [
    "results"
   ]
  },
  {
   "cell_type": "code",
   "execution_count": 30,
   "id": "707af5d3",
   "metadata": {},
   "outputs": [
    {
     "name": "stdout",
     "output_type": "stream",
     "text": [
      "[Doc 1] LangChain allows you to build applications using LLMs like GPT-4.\n",
      "\n",
      "[Doc 2] LangChain is highly modular and supports plug-and-play components.\n",
      "\n",
      "[Doc 3] It supports memory, chains, tools, agents, and retrievers.\n",
      "\n"
     ]
    }
   ],
   "source": [
    "for i, doc in enumerate(results):\n",
    "    print(f\"[Doc {i+1}] {doc.page_content}\\n\")"
   ]
  },
  {
   "cell_type": "code",
   "execution_count": 31,
   "id": "9a981714",
   "metadata": {},
   "outputs": [
    {
     "name": "stdout",
     "output_type": "stream",
     "text": [
      "The End\n"
     ]
    }
   ],
   "source": [
    "print(\"The End\")"
   ]
  }
 ],
 "metadata": {
  "kernelspec": {
   "display_name": "Python 3",
   "language": "python",
   "name": "python3"
  },
  "language_info": {
   "codemirror_mode": {
    "name": "ipython",
    "version": 3
   },
   "file_extension": ".py",
   "mimetype": "text/x-python",
   "name": "python",
   "nbconvert_exporter": "python",
   "pygments_lexer": "ipython3",
   "version": "3.10.17"
  }
 },
 "nbformat": 4,
 "nbformat_minor": 5
}
