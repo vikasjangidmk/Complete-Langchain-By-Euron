{
 "cells": [
  {
   "cell_type": "code",
   "execution_count": 1,
   "id": "f3eec5de",
   "metadata": {},
   "outputs": [],
   "source": [
    "import os\n",
    "from dotenv import load_dotenv\n",
    "# Load environment variables from .env file\n",
    "load_dotenv()\n",
    "# Get the value of the environment variable\n",
    "openai_api_key = os.getenv(\"OPENAI_API_KEY\")"
   ]
  },
  {
   "cell_type": "markdown",
   "id": "a301e7da",
   "metadata": {},
   "source": [
    "# **FAISS**"
   ]
  },
  {
   "cell_type": "code",
   "execution_count": 2,
   "id": "6b755bd9",
   "metadata": {},
   "outputs": [
    {
     "name": "stderr",
     "output_type": "stream",
     "text": [
      "C:\\Users\\vikas\\AppData\\Local\\Temp\\ipykernel_2608\\2632380199.py:20: LangChainDeprecationWarning: The method `BaseRetriever.get_relevant_documents` was deprecated in langchain-core 0.1.46 and will be removed in 1.0. Use :meth:`~invoke` instead.\n",
      "  results = retriever.get_relevant_documents(\"What is LangChain?\")\n"
     ]
    },
    {
     "name": "stdout",
     "output_type": "stream",
     "text": [
      "LangChain enables LLM-powered applications.\n"
     ]
    }
   ],
   "source": [
    "from langchain_openai import ChatOpenAI\n",
    "llm = ChatOpenAI(temperature=0.7)\n",
    "\n",
    "\n",
    "from langchain.schema import Document\n",
    "from langchain.vectorstores import FAISS\n",
    "from langchain_openai import OpenAIEmbeddings\n",
    "\n",
    "docs = [\n",
    "    Document(page_content=\"LangChain enables LLM-powered applications.\"),\n",
    "    Document(page_content=\"FAISS is used for efficient vector search.\"),\n",
    "    Document(page_content=\"Embeddings are numeric representations of text.\")\n",
    "]\n",
    "\n",
    "embeddings = OpenAIEmbeddings()\n",
    "\n",
    "vectorstore = FAISS.from_documents(docs, embeddings)\n",
    "\n",
    "retriever = vectorstore.as_retriever()\n",
    "results = retriever.get_relevant_documents(\"What is LangChain?\")\n",
    "\n",
    "print(results[0].page_content)"
   ]
  },
  {
   "cell_type": "markdown",
   "id": "9c74cd4d",
   "metadata": {},
   "source": [
    "# **ChromaDB**"
   ]
  },
  {
   "cell_type": "code",
   "execution_count": 3,
   "id": "3c75646b",
   "metadata": {},
   "outputs": [
    {
     "name": "stdout",
     "output_type": "stream",
     "text": [
      "LangChain enables LLM-powered applications.\n"
     ]
    }
   ],
   "source": [
    "from langchain.schema import Document\n",
    "from langchain.vectorstores import Chroma\n",
    "from langchain_openai import OpenAIEmbeddings\n",
    "\n",
    "docs = [\n",
    "    Document(page_content=\"Chroma is a vector DB built for LLM RAG systems.\"),\n",
    "    Document(page_content=\"You can persist Chroma to disk for reuse.\"),\n",
    "]\n",
    "\n",
    "embeddings = OpenAIEmbeddings()\n",
    "\n",
    "Vectorstore = Chroma.from_documents(docs, embeddings, persist_directory=\"./chroma_db3\")\n",
    "\n",
    "retriever = vectorstore.as_retriever()\n",
    "results = retriever.get_relevant_documents(\"What is Chroma?\")\n",
    "\n",
    "print(results[0].page_content)"
   ]
  },
  {
   "cell_type": "code",
   "execution_count": 20,
   "id": "b74c8419",
   "metadata": {},
   "outputs": [
    {
     "name": "stdout",
     "output_type": "stream",
     "text": [
      "The End\n"
     ]
    }
   ],
   "source": [
    "print(\"The End\")"
   ]
  }
 ],
 "metadata": {
  "kernelspec": {
   "display_name": "Python 3",
   "language": "python",
   "name": "python3"
  },
  "language_info": {
   "codemirror_mode": {
    "name": "ipython",
    "version": 3
   },
   "file_extension": ".py",
   "mimetype": "text/x-python",
   "name": "python",
   "nbconvert_exporter": "python",
   "pygments_lexer": "ipython3",
   "version": "3.10.17"
  }
 },
 "nbformat": 4,
 "nbformat_minor": 5
}
