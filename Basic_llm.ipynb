{
 "cells": [
  {
   "cell_type": "markdown",
   "id": "adc24cc0",
   "metadata": {},
   "source": [
    "# 1. Openai"
   ]
  },
  {
   "cell_type": "code",
   "execution_count": 1,
   "id": "6678f0b7",
   "metadata": {},
   "outputs": [
    {
     "name": "stdout",
     "output_type": "stream",
     "text": [
      "content='Why did the AI break up with its robot girlfriend? \\nBecause she had too many trust issues and kept accusing it of having a \"virus\"!' additional_kwargs={'refusal': None} response_metadata={'token_usage': {'completion_tokens': 31, 'prompt_tokens': 14, 'total_tokens': 45, 'completion_tokens_details': {'accepted_prediction_tokens': 0, 'audio_tokens': 0, 'reasoning_tokens': 0, 'rejected_prediction_tokens': 0}, 'prompt_tokens_details': {'audio_tokens': 0, 'cached_tokens': 0}}, 'model_name': 'gpt-3.5-turbo-0125', 'system_fingerprint': None, 'id': 'chatcmpl-BazsWCR5ubUUW4V2WeFMr8v7MgxRp', 'service_tier': 'default', 'finish_reason': 'stop', 'logprobs': None} id='run--ec16167d-d81d-4f81-9977-7329e883d526-0' usage_metadata={'input_tokens': 14, 'output_tokens': 31, 'total_tokens': 45, 'input_token_details': {'audio': 0, 'cache_read': 0}, 'output_token_details': {'audio': 0, 'reasoning': 0}}\n"
     ]
    }
   ],
   "source": [
    "import os\n",
    "from dotenv import load_dotenv\n",
    "from langchain_openai import ChatOpenAI\n",
    "\n",
    "load_dotenv()\n",
    "\n",
    "llm = ChatOpenAI(\n",
    "    model = \"gpt-3.5-turbo\",\n",
    "    temperature = 0.2,\n",
    "    api_key = os.getenv(\"OPENAI_API_KEY\")\n",
    ")\n",
    "\n",
    "prompt = \"Tell me a joke about AI.\"\n",
    "\n",
    "response = llm.invoke(prompt)\n",
    "\n",
    "print(response)\n"
   ]
  },
  {
   "cell_type": "markdown",
   "id": "c98d6581",
   "metadata": {},
   "source": [
    "# 2. Groq"
   ]
  },
  {
   "cell_type": "code",
   "execution_count": 1,
   "id": "851d42eb",
   "metadata": {},
   "outputs": [
    {
     "name": "stdout",
     "output_type": "stream",
     "text": [
      "content='Here\\'s one:\\n\\nWhy did the AI program go on a diet?\\n\\nBecause it wanted to lose some bytes!\\n\\n(Sorry, I know it\\'s a bit of a \"machine\" learning curve for humor, but I hope that one computed correctly!)' additional_kwargs={} response_metadata={'token_usage': {'completion_tokens': 48, 'prompt_tokens': 17, 'total_tokens': 65, 'completion_time': 0.115270094, 'prompt_time': 0.003148716, 'queue_time': 0.225578963, 'total_time': 0.11841881}, 'model_name': 'meta-llama/llama-4-scout-17b-16e-instruct', 'system_fingerprint': 'fp_37da608fc1', 'finish_reason': 'stop', 'logprobs': None} id='run--f204bc60-2989-4143-a376-fb53e0143d57-0' usage_metadata={'input_tokens': 17, 'output_tokens': 48, 'total_tokens': 65}\n"
     ]
    }
   ],
   "source": [
    "import os\n",
    "from dotenv import load_dotenv\n",
    "from langchain_groq import ChatGroq\n",
    "\n",
    "load_dotenv()\n",
    "\n",
    "groq_llm = ChatGroq(\n",
    "    model = \"meta-llama/llama-4-scout-17b-16e-instruct\",\n",
    "    temperature = 0.2,\n",
    "    api_key = os.getenv(\"GROQ_API_KEY\")\n",
    ")\n",
    "\n",
    "prompt = \"Tell me a joke about AI.\"\n",
    "\n",
    "response = groq_llm.invoke(prompt)\n",
    "\n",
    "print(response)"
   ]
  },
  {
   "cell_type": "markdown",
   "id": "9a34accc",
   "metadata": {},
   "source": [
    "# 3. Gemini"
   ]
  },
  {
   "cell_type": "code",
   "execution_count": 6,
   "id": "77eaa2f3",
   "metadata": {},
   "outputs": [
    {
     "name": "stdout",
     "output_type": "stream",
     "text": [
      "content='Why was the AI so bad at hide-and-seek?\\n\\nBecause it kept hiding in the cloud!' additional_kwargs={} response_metadata={'prompt_feedback': {'block_reason': 0, 'safety_ratings': []}, 'finish_reason': 'STOP', 'model_name': 'gemini-1.5-flash', 'safety_ratings': []} id='run--13ce1a8e-c780-4455-bb71-4b13f4b9fa49-0' usage_metadata={'input_tokens': 7, 'output_tokens': 23, 'total_tokens': 30, 'input_token_details': {'cache_read': 0}}\n"
     ]
    }
   ],
   "source": [
    "import os\n",
    "from dotenv import load_dotenv\n",
    "from langchain_google_genai import ChatGoogleGenerativeAI\n",
    "\n",
    "load_dotenv()\n",
    "\n",
    "google_llm = ChatGoogleGenerativeAI(\n",
    "    model = \"gemini-1.5-flash\",\n",
    "    temperature = 0.2,\n",
    "    api_key = os.getenv(\"GOOGLE_API_KEY\")\n",
    ")\n",
    "\n",
    "prompt = \"Tell me a joke about AI.\"\n",
    "\n",
    "response = google_llm.invoke(prompt)\n",
    "print(response)\n"
   ]
  },
  {
   "cell_type": "code",
   "execution_count": null,
   "id": "c800a63b",
   "metadata": {},
   "outputs": [],
   "source": []
  }
 ],
 "metadata": {
  "kernelspec": {
   "display_name": "Python 3",
   "language": "python",
   "name": "python3"
  },
  "language_info": {
   "codemirror_mode": {
    "name": "ipython",
    "version": 3
   },
   "file_extension": ".py",
   "mimetype": "text/x-python",
   "name": "python",
   "nbconvert_exporter": "python",
   "pygments_lexer": "ipython3",
   "version": "3.10.17"
  }
 },
 "nbformat": 4,
 "nbformat_minor": 5
}
