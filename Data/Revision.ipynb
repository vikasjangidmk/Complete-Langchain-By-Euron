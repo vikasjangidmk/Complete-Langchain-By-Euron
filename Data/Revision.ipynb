{
 "cells": [
  {
   "cell_type": "code",
   "execution_count": 4,
   "id": "537f713e",
   "metadata": {},
   "outputs": [],
   "source": [
    "import os\n",
    "from dotenv import load_dotenv\n",
    "# Load environment variables from .env file\n",
    "load_dotenv()\n",
    "# Get the value of the environment variable\n",
    "openai_api_key = os.getenv(\"OPENAI_API_KEY\")"
   ]
  },
  {
   "cell_type": "code",
   "execution_count": 5,
   "id": "a004fe02",
   "metadata": {},
   "outputs": [],
   "source": [
    "from langchain_openai import ChatOpenAI\n",
    "\n",
    "llm = ChatOpenAI(\n",
    "    model=\"gpt-4o\",\n",
    "    temperature=0.0,\n",
    "    max_tokens=1000,\n",
    "    openai_api_key=openai_api_key\n",
    ")"
   ]
  },
  {
   "cell_type": "code",
   "execution_count": 6,
   "id": "d1d74b75",
   "metadata": {},
   "outputs": [],
   "source": [
    "from langchain.prompts import PromptTemplate\n",
    "\n",
    "prompt = PromptTemplate(\n",
    "    input_variables=[\"Topic\"],\n",
    "    template=\"Give me summary on the topic: {Topic} in 100 words or less.\"\n",
    ")"
   ]
  },
  {
   "cell_type": "code",
   "execution_count": 7,
   "id": "f0c38ade",
   "metadata": {},
   "outputs": [
    {
     "name": "stderr",
     "output_type": "stream",
     "text": [
      "C:\\Users\\vikas\\AppData\\Local\\Temp\\ipykernel_9292\\3249218726.py:3: LangChainDeprecationWarning: The class `LLMChain` was deprecated in LangChain 0.1.17 and will be removed in 1.0. Use :meth:`~RunnableSequence, e.g., `prompt | llm`` instead.\n",
      "  chain = LLMChain(llm=llm, prompt=prompt)\n"
     ]
    }
   ],
   "source": [
    "from langchain.chains import LLMChain\n",
    "\n",
    "chain = LLMChain(llm=llm, prompt=prompt)"
   ]
  },
  {
   "cell_type": "code",
   "execution_count": 8,
   "id": "d62b70bd",
   "metadata": {},
   "outputs": [
    {
     "name": "stdout",
     "output_type": "stream",
     "text": [
      "{'Topic': 'Machine Learning', 'text': 'Machine learning is a subset of artificial intelligence that enables systems to learn and improve from experience without being explicitly programmed. It involves algorithms that process and analyze data to identify patterns and make decisions. Key techniques include supervised learning, where models are trained on labeled data, and unsupervised learning, which finds hidden patterns in unlabeled data. Reinforcement learning, another approach, involves learning optimal actions through trial and error. Machine learning is widely used in various applications, such as image and speech recognition, recommendation systems, and autonomous vehicles, driving innovation across industries by enhancing predictive accuracy and efficiency.'}\n"
     ]
    }
   ],
   "source": [
    "response = chain.invoke(\"Machine Learning\")\n",
    "print(response)"
   ]
  },
  {
   "cell_type": "code",
   "execution_count": 9,
   "id": "1de5b5cd",
   "metadata": {},
   "outputs": [
    {
     "name": "stdout",
     "output_type": "stream",
     "text": [
      "Machine learning is a subset of artificial intelligence that enables systems to learn and improve from experience without being explicitly programmed. It involves algorithms that process and analyze data to identify patterns and make decisions. Key techniques include supervised learning, where models are trained on labeled data, and unsupervised learning, which finds hidden patterns in unlabeled data. Reinforcement learning, another approach, involves learning optimal actions through trial and error. Machine learning is widely used in various applications, such as image and speech recognition, recommendation systems, and autonomous vehicles, driving innovation across industries by enhancing predictive accuracy and efficiency.\n"
     ]
    }
   ],
   "source": [
    "print(response[\"text\"])"
   ]
  },
  {
   "cell_type": "code",
   "execution_count": 11,
   "id": "f5799b53",
   "metadata": {},
   "outputs": [
    {
     "name": "stdout",
     "output_type": "stream",
     "text": [
      "The End\n"
     ]
    }
   ],
   "source": [
    "print(\"The End\")"
   ]
  },
  {
   "cell_type": "code",
   "execution_count": 12,
   "id": "9e447917",
   "metadata": {},
   "outputs": [],
   "source": [
    "import os\n",
    "from dotenv import load_dotenv\n",
    "load_dotenv()\n",
    "openai_api_key = os.getenv(\"OPENAI_API_KEY\")"
   ]
  },
  {
   "cell_type": "code",
   "execution_count": 13,
   "id": "779aa3a2",
   "metadata": {},
   "outputs": [],
   "source": [
    "from langchain_openai import ChatOpenAI\n",
    "llm = ChatOpenAI(\n",
    "    model = \"gpt-3.5-turbo\",\n",
    "    temperature = 0.7,\n",
    "    max_tokens = 500,\n",
    "    openai_api_key=openai_api_key\n",
    ")"
   ]
  },
  {
   "cell_type": "code",
   "execution_count": 14,
   "id": "d8834e79",
   "metadata": {},
   "outputs": [],
   "source": [
    "from langchain.prompts import PromptTemplate"
   ]
  },
  {
   "cell_type": "code",
   "execution_count": 16,
   "id": "71e23572",
   "metadata": {},
   "outputs": [],
   "source": [
    "prompt = PromptTemplate(\n",
    "    input_variables=\"user\",\n",
    "    template=\"You are a helpful assistant. Answer the question: {user}\"\n",
    ")"
   ]
  },
  {
   "cell_type": "code",
   "execution_count": 17,
   "id": "36a4fe74",
   "metadata": {},
   "outputs": [],
   "source": [
    "from langchain.chains import LLMChain\n",
    "chain = LLMChain(\n",
    "    llm=llm,\n",
    "    prompt=prompt\n",
    ")"
   ]
  },
  {
   "cell_type": "code",
   "execution_count": 18,
   "id": "447325ae",
   "metadata": {},
   "outputs": [],
   "source": [
    "response = chain.invoke(\"What is the capital of France?\")"
   ]
  },
  {
   "cell_type": "code",
   "execution_count": 19,
   "id": "f66a066d",
   "metadata": {},
   "outputs": [
    {
     "name": "stdout",
     "output_type": "stream",
     "text": [
      "{'user': 'What is the capital of France?', 'text': 'The capital of France is Paris.'}\n"
     ]
    }
   ],
   "source": [
    "print(response)"
   ]
  },
  {
   "cell_type": "code",
   "execution_count": 20,
   "id": "9c29c438",
   "metadata": {},
   "outputs": [
    {
     "name": "stdout",
     "output_type": "stream",
     "text": [
      "The capital of France is Paris.\n"
     ]
    }
   ],
   "source": [
    "print(response[\"text\"])"
   ]
  },
  {
   "cell_type": "code",
   "execution_count": 29,
   "id": "79df4e6f",
   "metadata": {},
   "outputs": [
    {
     "name": "stderr",
     "output_type": "stream",
     "text": [
      "C:\\Users\\vikas\\AppData\\Local\\Temp\\ipykernel_9292\\1866697435.py:14: LangChainDeprecationWarning: The method `Chain.run` was deprecated in langchain 0.1.0 and will be removed in 1.0. Use :meth:`~invoke` instead.\n",
      "  response = chain.run(language=\"Hindi\", sentence=\"How are you today?\")\n"
     ]
    },
    {
     "name": "stdout",
     "output_type": "stream",
     "text": [
      "आज तुम कैसे हो?\n"
     ]
    }
   ],
   "source": [
    "from langchain.prompts import PromptTemplate\n",
    "from langchain.chains import LLMChain\n",
    "\n",
    "# Template with placeholders\n",
    "template = \"Translate the following sentence into {language}: {sentence}\"\n",
    "\n",
    "# Create PromptTemplate object specifying variables to be replaced\n",
    "prompt = PromptTemplate(template=template, input_variables=[\"language\", \"sentence\"])\n",
    "\n",
    "# Create the LLMChain with your LLM and the prompt\n",
    "chain = LLMChain(llm=llm, prompt=prompt)\n",
    "\n",
    "# Use the chain to get a response\n",
    "response = chain.run(language=\"Hindi\", sentence=\"How are you today?\")\n",
    "\n",
    "print(response)\n"
   ]
  },
  {
   "cell_type": "code",
   "execution_count": 30,
   "id": "0be5d55d",
   "metadata": {},
   "outputs": [],
   "source": [
    "name = input(\"Enter your name: \")\n",
    "age = int(input(\"Enter your age: \"))"
   ]
  },
  {
   "cell_type": "code",
   "execution_count": 32,
   "id": "4cf6dd8e",
   "metadata": {},
   "outputs": [
    {
     "name": "stdout",
     "output_type": "stream",
     "text": [
      "My name is vikas and I am 23 years old.\n"
     ]
    }
   ],
   "source": [
    "print(\"My name is {name} and I am {age} years old.\".format(name=name, age=age))"
   ]
  },
  {
   "cell_type": "code",
   "execution_count": 35,
   "id": "41245250",
   "metadata": {},
   "outputs": [],
   "source": [
    "import os\n",
    "from dotenv import load_dotenv\n",
    "# Load environment variables from .env file\n",
    "load_dotenv()\n",
    "# Get the value of the environment variable\n",
    "openai_api_key = os.getenv(\"OPENAI_API_KEY\")"
   ]
  },
  {
   "cell_type": "code",
   "execution_count": 38,
   "id": "c1470bd3",
   "metadata": {},
   "outputs": [],
   "source": [
    "from langchain_openai import ChatOpenAI\n",
    "\n",
    "llm = ChatOpenAI(\n",
    "    model=\"gpt-4o\",\n",
    "    temperature=0.4,\n",
    "    max_tokens=100,\n",
    "    openai_api_key=openai_api_key\n",
    ")"
   ]
  },
  {
   "cell_type": "code",
   "execution_count": 42,
   "id": "0df67555",
   "metadata": {},
   "outputs": [],
   "source": [
    "from langchain.prompts import ChatPromptTemplate\n",
    "\n",
    "prompt = ChatPromptTemplate([\n",
    "    (\"system\",\"You are a teacher assistant\"),\n",
    "    (\"user\", \"Teach me this {topic}\")\n",
    "])"
   ]
  },
  {
   "cell_type": "code",
   "execution_count": 43,
   "id": "d5ef81f7",
   "metadata": {},
   "outputs": [],
   "source": [
    "from langchain.chains import LLMChain\n",
    "\n",
    "chain = LLMChain(\n",
    "    llm = llm,\n",
    "    prompt = prompt\n",
    ")"
   ]
  },
  {
   "cell_type": "code",
   "execution_count": 44,
   "id": "646fb559",
   "metadata": {},
   "outputs": [],
   "source": [
    "response = chain.invoke(\"Python\")"
   ]
  },
  {
   "cell_type": "code",
   "execution_count": 45,
   "id": "6bc64af6",
   "metadata": {},
   "outputs": [
    {
     "name": "stdout",
     "output_type": "stream",
     "text": [
      "{'topic': 'Python', 'text': \"Of course! I'd be happy to help you learn Python. Python is a versatile and widely-used programming language that's known for its readability and simplicity. Let's start with some basic concepts, and feel free to ask questions or request further explanations on any topic.\\n\\n### 1. **Variables and Data Types**\\n\\nIn Python, you can store data in variables. Here's how you can create variables and use different data types:\\n\\n```python\\n# Integer\\nage = 25\\n\\n# Float\\nheight = 5\"}\n"
     ]
    }
   ],
   "source": [
    "print(response)"
   ]
  },
  {
   "cell_type": "code",
   "execution_count": 46,
   "id": "a65b870f",
   "metadata": {},
   "outputs": [],
   "source": [
    "import os\n",
    "from dotenv import load_dotenv\n",
    "# Load environment variables from .env file\n",
    "load_dotenv()\n",
    "# Get the value of the environment variable\n",
    "openai_api_key = os.getenv(\"OPENAI_API_KEY\")"
   ]
  },
  {
   "cell_type": "code",
   "execution_count": 47,
   "id": "77e32c16",
   "metadata": {},
   "outputs": [],
   "source": [
    "from langchain_openai import ChatOpenAI\n",
    "llm = ChatOpenAI(\n",
    "    model=\"gpt-4o\",\n",
    "    temperature=0.5,\n",
    "    max_tokens=100,\n",
    "    openai_api_key=openai_api_key\n",
    ")\n"
   ]
  },
  {
   "cell_type": "code",
   "execution_count": 48,
   "id": "d29cbde7",
   "metadata": {},
   "outputs": [],
   "source": [
    "from langchain.prompts import ChatPromptTemplate\n",
    "prompt = ChatPromptTemplate.from_messages([\n",
    "    (\"system\", \"You are a helpful assistant\"),\n",
    "    (\"user\", \"What is the capital of {country}?\")\n",
    "])"
   ]
  },
  {
   "cell_type": "code",
   "execution_count": 49,
   "id": "284b50fc",
   "metadata": {},
   "outputs": [],
   "source": [
    "from langchain.chains import LLMChain\n",
    "chain = LLMChain(\n",
    "    llm=llm,\n",
    "    prompt=prompt\n",
    ")   "
   ]
  },
  {
   "cell_type": "code",
   "execution_count": 52,
   "id": "0fe03071",
   "metadata": {},
   "outputs": [],
   "source": [
    "response = chain.invoke(\"France\")"
   ]
  },
  {
   "cell_type": "code",
   "execution_count": 53,
   "id": "3b143f56",
   "metadata": {},
   "outputs": [
    {
     "name": "stdout",
     "output_type": "stream",
     "text": [
      "{'country': 'France', 'text': 'The capital of France is Paris.'}\n"
     ]
    }
   ],
   "source": [
    "print(response)"
   ]
  },
  {
   "cell_type": "code",
   "execution_count": 58,
   "id": "0dc4d8d0",
   "metadata": {},
   "outputs": [],
   "source": [
    "from langchain_core.prompts import ChatPromptTemplate, MessagesPlaceholder\n",
    "from langchain_core.messages import HumanMessage\n",
    "\n",
    "prompt_template = ChatPromptTemplate([\n",
    "    (\"system\", \"You are a helpful assistant\"),\n",
    "    MessagesPlaceholder(\"msgs\")\n",
    "])\n",
    "\n",
    "output = prompt_template.invoke({\n",
    "    \"msgs\": [HumanMessage(content=\"hi! who are you?\")]\n",
    "})\n"
   ]
  },
  {
   "cell_type": "code",
   "execution_count": 59,
   "id": "b174535e",
   "metadata": {},
   "outputs": [
    {
     "data": {
      "text/plain": [
       "ChatPromptValue(messages=[SystemMessage(content='You are a helpful assistant', additional_kwargs={}, response_metadata={}), HumanMessage(content='hi! who are you?', additional_kwargs={}, response_metadata={})])"
      ]
     },
     "execution_count": 59,
     "metadata": {},
     "output_type": "execute_result"
    }
   ],
   "source": [
    "output"
   ]
  },
  {
   "cell_type": "code",
   "execution_count": 62,
   "id": "c22cdb64",
   "metadata": {},
   "outputs": [
    {
     "name": "stdout",
     "output_type": "stream",
     "text": [
      "\n",
      "\n",
      "\u001b[1m> Entering new SimpleSequentialChain chain...\u001b[0m\n",
      "\u001b[36;1m\u001b[1;3m\"Exploring the Future: Unraveling the Impact of Artificial Intelligence on Our World\"\u001b[0m\n",
      "\u001b[33;1m\u001b[1;3m**Exploring the Future: Unraveling the Impact of Artificial Intelligence on Our World**\n",
      "\n",
      "In a world that is increasingly driven by technology, artificial intelligence (AI) stands out as one of the most transformative forces of our time. From self-driving cars to intelligent virtual assistants, AI is reshaping the landscape of our daily lives and the broader global economy. As we look to the future, it is essential to explore the profound impact AI will have on our world, examining both the opportunities and challenges\u001b[0m\n",
      "\n",
      "\u001b[1m> Finished chain.\u001b[0m\n"
     ]
    },
    {
     "data": {
      "text/plain": [
       "'**Exploring the Future: Unraveling the Impact of Artificial Intelligence on Our World**\\n\\nIn a world that is increasingly driven by technology, artificial intelligence (AI) stands out as one of the most transformative forces of our time. From self-driving cars to intelligent virtual assistants, AI is reshaping the landscape of our daily lives and the broader global economy. As we look to the future, it is essential to explore the profound impact AI will have on our world, examining both the opportunities and challenges'"
      ]
     },
     "execution_count": 62,
     "metadata": {},
     "output_type": "execute_result"
    }
   ],
   "source": [
    "from langchain.chains import SimpleSequentialChain\n",
    "\n",
    "# Chain 1: Generate title\n",
    "prompt1 = PromptTemplate(template=\"Give a title for a blog about {topic}\", input_variables=[\"topic\"])\n",
    "chain1 = LLMChain(prompt=prompt1, llm=llm)\n",
    "\n",
    "# Chain 2: Generate content using title\n",
    "prompt2 = PromptTemplate(template=\"Write a blog with the title: {title}\", input_variables=[\"title\"])\n",
    "chain2 = LLMChain(prompt=prompt2, llm=llm)\n",
    "\n",
    "overall_chain = SimpleSequentialChain(chains=[chain1, chain2], verbose=True)\n",
    "overall_chain.run(\"Artificial Intelligence\")\n"
   ]
  },
  {
   "cell_type": "code",
   "execution_count": 70,
   "id": "e8be612e",
   "metadata": {},
   "outputs": [
    {
     "name": "stdout",
     "output_type": "stream",
     "text": [
      "\n",
      "\n",
      "\u001b[1m> Entering new ConversationChain chain...\u001b[0m\n",
      "Prompt after formatting:\n",
      "\u001b[32;1m\u001b[1;3mThe following is a friendly conversation between a human and an AI. The AI is talkative and provides lots of specific details from its context. If the AI does not know the answer to a question, it truthfully says it does not know.\n",
      "\n",
      "Current conversation:\n",
      "[]\n",
      "Human: Hi, my name is Vikas.\n",
      "AI:\u001b[0m\n",
      "\n",
      "\u001b[1m> Finished chain.\u001b[0m\n",
      "\n",
      "\n",
      "\u001b[1m> Entering new ConversationChain chain...\u001b[0m\n",
      "Prompt after formatting:\n",
      "\u001b[32;1m\u001b[1;3mThe following is a friendly conversation between a human and an AI. The AI is talkative and provides lots of specific details from its context. If the AI does not know the answer to a question, it truthfully says it does not know.\n",
      "\n",
      "Current conversation:\n",
      "[HumanMessage(content='Hi, my name is Vikas.', additional_kwargs={}, response_metadata={}), AIMessage(content=\"Hello Vikas! It's great to meet you. I'm an AI here to chat and help with any questions you might have. What's on your mind today?\", additional_kwargs={}, response_metadata={})]\n",
      "Human: My age is 23.\n",
      "AI:\u001b[0m\n",
      "\n",
      "\u001b[1m> Finished chain.\u001b[0m\n",
      "\n",
      "\n",
      "\u001b[1m> Entering new ConversationChain chain...\u001b[0m\n",
      "Prompt after formatting:\n",
      "\u001b[32;1m\u001b[1;3mThe following is a friendly conversation between a human and an AI. The AI is talkative and provides lots of specific details from its context. If the AI does not know the answer to a question, it truthfully says it does not know.\n",
      "\n",
      "Current conversation:\n",
      "[HumanMessage(content='My age is 23.', additional_kwargs={}, response_metadata={}), AIMessage(content=\"Nice! Being 23 is an exciting time with lots of opportunities and experiences ahead. Whether you're finishing up studies, starting a career, or exploring new hobbies, there's so much to discover. Do you have any particular plans or goals you're working towards right now?\", additional_kwargs={}, response_metadata={})]\n",
      "Human: I am a ml engineer.\n",
      "AI:\u001b[0m\n",
      "\n",
      "\u001b[1m> Finished chain.\u001b[0m\n"
     ]
    },
    {
     "data": {
      "text/plain": [
       "\"That's fantastic! As a machine learning engineer, you're at the forefront of technology and innovation. It's a field that's constantly evolving, with new algorithms, tools, and applications being developed all the time. Whether you're working on improving model accuracy, optimizing algorithms, or deploying models into production, there's always something new to learn and explore. Are there any specific projects or technologies you're currently working with or excited about?\""
      ]
     },
     "execution_count": 70,
     "metadata": {},
     "output_type": "execute_result"
    }
   ],
   "source": [
    "from langchain.chains import ConversationChain\n",
    "from langchain.memory import ConversationBufferWindowMemory\n",
    "\n",
    "memory = ConversationBufferWindowMemory(k=1, return_messages=True)\n",
    "chat = ConversationChain(llm=llm, memory=memory, verbose=True)\n",
    "\n",
    "chat.predict(input=\"Hi, my name is Vikas.\")\n",
    "chat.predict(input=\"My age is 23.\")\n",
    "chat.predict(input=\"I am a ml engineer.\")\n",
    "\n"
   ]
  },
  {
   "cell_type": "code",
   "execution_count": 71,
   "id": "9fa29250",
   "metadata": {},
   "outputs": [
    {
     "name": "stdout",
     "output_type": "stream",
     "text": [
      "\n",
      "\n",
      "\u001b[1m> Entering new ConversationChain chain...\u001b[0m\n",
      "Prompt after formatting:\n",
      "\u001b[32;1m\u001b[1;3mThe following is a friendly conversation between a human and an AI. The AI is talkative and provides lots of specific details from its context. If the AI does not know the answer to a question, it truthfully says it does not know.\n",
      "\n",
      "Current conversation:\n",
      "[HumanMessage(content='I am a ml engineer.', additional_kwargs={}, response_metadata={}), AIMessage(content=\"That's fantastic! As a machine learning engineer, you're at the forefront of technology and innovation. It's a field that's constantly evolving, with new algorithms, tools, and applications being developed all the time. Whether you're working on improving model accuracy, optimizing algorithms, or deploying models into production, there's always something new to learn and explore. Are there any specific projects or technologies you're currently working with or excited about?\", additional_kwargs={}, response_metadata={})]\n",
      "Human: What is my name?\n",
      "AI:\u001b[0m\n",
      "\n",
      "\u001b[1m> Finished chain.\u001b[0m\n"
     ]
    },
    {
     "data": {
      "text/plain": [
       "\"I'm sorry, but I don't have access to personal data about individuals unless it has been shared with me in the course of our conversation. Therefore, I don't know your name. If you'd like, you can tell me, and I'll be happy to address you by it!\""
      ]
     },
     "execution_count": 71,
     "metadata": {},
     "output_type": "execute_result"
    }
   ],
   "source": [
    "chat.predict(input=\"What is my name?\")"
   ]
  },
  {
   "cell_type": "code",
   "execution_count": null,
   "id": "1efd744a",
   "metadata": {},
   "outputs": [],
   "source": []
  }
 ],
 "metadata": {
  "kernelspec": {
   "display_name": "Python 3",
   "language": "python",
   "name": "python3"
  },
  "language_info": {
   "codemirror_mode": {
    "name": "ipython",
    "version": 3
   },
   "file_extension": ".py",
   "mimetype": "text/x-python",
   "name": "python",
   "nbconvert_exporter": "python",
   "pygments_lexer": "ipython3",
   "version": "3.10.17"
  }
 },
 "nbformat": 4,
 "nbformat_minor": 5
}
