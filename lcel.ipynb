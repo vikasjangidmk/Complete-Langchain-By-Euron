{
 "cells": [
  {
   "cell_type": "code",
   "execution_count": 2,
   "metadata": {},
   "outputs": [],
   "source": [
    "import os\n",
    "from dotenv import load_dotenv\n",
    "load_dotenv()\n",
    "openai_api_key = os.getenv(\"OPENAI_API_KEY\")"
   ]
  },
  {
   "cell_type": "code",
   "execution_count": 3,
   "metadata": {},
   "outputs": [],
   "source": [
    "from langchain_openai import ChatOpenAI\n",
    "from langchain.prompts import ChatPromptTemplate\n",
    "from langchain.schema import StrOutputParser"
   ]
  },
  {
   "cell_type": "code",
   "execution_count": 4,
   "metadata": {},
   "outputs": [
    {
     "name": "stdout",
     "output_type": "stream",
     "text": [
      "The history of the internet dates back to the 1960s when the U.S. Department of Defense created ARPANET, a project that connected computers at various universities and research labs. In the 1970s, the concept of email was developed and the TCP/IP protocols, which serve as the backbone of the internet communication, were created. The 1980s saw the development of the Domain Name System (DNS) and the birth of the World Wide Web by Tim Berners-Lee in 1989. The 1990s marked the beginning of the internet's commercialization, with the launch of the first web browser, Mosaic, and the establishment of popular websites like Yahoo and Amazon. The 2000s brought about the rise of social media platforms, video streaming, and mobile internet. Today, the internet continues to evolve, with advancements in cloud computing, IoT, and AI shaping its future.\n"
     ]
    }
   ],
   "source": [
    "llm = ChatOpenAI(temperature=0.0, model=\"gpt-4\") \n",
    "\n",
    "prompt = ChatPromptTemplate.from_template(\"Write a short summary about {topic}.\")\n",
    "\n",
    "\n",
    "chain = prompt | llm | StrOutputParser()\n",
    "result = chain.invoke({\"topic\": \"the history of the internet\"})\n",
    "print(result)"
   ]
  },
  {
   "cell_type": "code",
   "execution_count": 5,
   "metadata": {},
   "outputs": [],
   "source": [
    "# modification \n",
    "from langchain_openai import ChatOpenAI\n",
    "from langchain.prompts import ChatPromptTemplate, MessagesPlaceholder\n",
    "from langchain.schema import StrOutputParser\n",
    "llm = ChatOpenAI(temperature=0.0, model=\"gpt-4\") \n"
   ]
  },
  {
   "cell_type": "code",
   "execution_count": 6,
   "metadata": {},
   "outputs": [],
   "source": [
    "prompt = ChatPromptTemplate.from_messages([\n",
    "    (\"system\", \"You are a helpful assistant.\"),\n",
    "    MessagesPlaceholder(variable_name=\"chat_history\"),\n",
    "    (\"human\", \"{input}\")\n",
    "])\n",
    "\n",
    "\n",
    "chain = ({  \n",
    "        \n",
    "        \"chat_history\": lambda x: x.get(\"chat_history\", []),\n",
    "        \"input\": lambda x: x[\"input\"]\n",
    "}\n",
    "| prompt | llm | StrOutputParser() \n",
    ")\n",
    "\n",
    "\n",
    "chat_history =[\n",
    "    (\"system\", \"You are a helpful assistant.\"),\n",
    "    (\"human\", \"What is the capital of France?\"),\n",
    "    (\"assistant\", \"The capital of France is Paris.\"),\n",
    "    (\"human\", \"What is the capital of Germany?\"),\n",
    "    (\"assistant\", \"The capital of Germany is Berlin.\")   \n",
    "]\n",
    "\n",
    "result = chain.invoke({\"input\": \"What is the capital of India?\", \"chat_history\": chat_history})\n"
   ]
  },
  {
   "cell_type": "code",
   "execution_count": 7,
   "metadata": {},
   "outputs": [
    {
     "name": "stdout",
     "output_type": "stream",
     "text": [
      "The capital of India is New Delhi.\n"
     ]
    }
   ],
   "source": [
    "print(result)"
   ]
  },
  {
   "cell_type": "code",
   "execution_count": 8,
   "metadata": {},
   "outputs": [],
   "source": [
    "from langchain_openai import ChatOpenAI\n",
    "from langchain.prompts import ChatPromptTemplate\n",
    "from langchain.schema import StrOutputParser\n",
    "from langchain_core.runnables import RunnableLambda\n",
    "llm = ChatOpenAI()"
   ]
  },
  {
   "cell_type": "code",
   "execution_count": 9,
   "metadata": {},
   "outputs": [],
   "source": [
    "summary_chain=( ChatPromptTemplate.from_template(\"Write a short summary about {text}.\") | llm | StrOutputParser()\n",
    ")\n",
    "\n",
    "analysis_chain = (ChatPromptTemplate.from_template(\"Analyze the summary: {text}.\") | llm | StrOutputParser())\n",
    "\n",
    "# parellel LCEL \n",
    "combined_chain = {\n",
    "    \"summary\": summary_chain,\n",
    "    \"analysis\": analysis_chain\n",
    "} | RunnableLambda(\n",
    "    lambda x: {\n",
    "        \"summary\": x[\"summary\"],\n",
    "        \"analysis\": x[\"analysis\"]\n",
    "    }\n",
    ")\n",
    "\n",
    "comined_chain1 = combined_chain.invoke({\"text\": \"the history of the internet\"})"
   ]
  },
  {
   "cell_type": "code",
   "execution_count": 10,
   "metadata": {},
   "outputs": [
    {
     "name": "stdout",
     "output_type": "stream",
     "text": [
      "{'summary': 'The internet has a long and complex history that dates back to the 1960s. It began as a research project funded by the US government called ARPANET, which connected four computers at research institutions to share information and resources. Over the years, the internet evolved and expanded, with the development of protocols like TCP/IP that allowed for data exchange between different networks. The introduction of the World Wide Web in the 1990s made the internet accessible to the general public, leading to its widespread adoption and rapid growth. Today, the internet is an integral part of everyday life, connecting people and devices around the world and facilitating communication, commerce, and information exchange.', 'analysis': 'The summary likely covers the origins and development of the internet, including key milestones and advancements that have shaped its evolution. It may discuss how the internet was originally created for military and academic purposes before expanding to become a global network connecting individuals and devices worldwide. The summary may also touch on the challenges and controversies faced by the internet, such as cybersecurity threats and debates over internet regulation and privacy. Overall, the history of the internet is likely presented as a complex and multifaceted story of innovation and societal change.'}\n"
     ]
    }
   ],
   "source": [
    "print(comined_chain1)"
   ]
  },
  {
   "cell_type": "code",
   "execution_count": 11,
   "metadata": {},
   "outputs": [],
   "source": [
    "from langchain.prompts import PromptTemplate\n",
    "from langchain_openai import ChatOpenAI\n",
    "from langchain_core.output_parsers import StrOutputParser\n",
    "from langchain_core.runnables import (\n",
    "    RunnableLambda,\n",
    "    RunnablePassthrough,\n",
    "    RunnableMap,\n",
    "    RunnableBranch,\n",
    "    RunnableParallel\n",
    ")"
   ]
  },
  {
   "cell_type": "code",
   "execution_count": 12,
   "metadata": {},
   "outputs": [],
   "source": [
    "prompt = PromptTemplate.from_template(\"Write a short tweet about {topic}.\")"
   ]
  },
  {
   "cell_type": "code",
   "execution_count": 13,
   "metadata": {},
   "outputs": [],
   "source": [
    "llm = ChatOpenAI(model=\"gpt-3.5-turbo\", temperature=0.7)\n",
    "parser = StrOutputParser()"
   ]
  },
  {
   "cell_type": "code",
   "execution_count": 14,
   "metadata": {},
   "outputs": [],
   "source": [
    "add_suffix = RunnableLambda(lambda x: {\"topic\": x[\"topic\"] + \" for developers\"})\n",
    "passthrough = RunnablePassthrough()\n"
   ]
  },
  {
   "cell_type": "code",
   "execution_count": 15,
   "metadata": {},
   "outputs": [],
   "source": [
    "multi_topic_map = RunnableMap({\n",
    "    \"ai\": RunnableLambda(lambda _: {\"topic\": \"AI\"}),\n",
    "    \"ml\": RunnableLambda(lambda _: {\"topic\": \"ML\"}),\n",
    "    \"cv\": RunnableLambda(lambda _: {\"topic\": \"Computer Vision\"})\n",
    "})\n"
   ]
  },
  {
   "cell_type": "code",
   "execution_count": 16,
   "metadata": {},
   "outputs": [],
   "source": [
    "full_chain = (\n",
    "    add_suffix |\n",
    "    passthrough |\n",
    "    prompt |\n",
    "    llm |\n",
    "    parser\n",
    ")"
   ]
  },
  {
   "cell_type": "code",
   "execution_count": 17,
   "metadata": {},
   "outputs": [
    {
     "data": {
      "text/plain": [
       "'\"Python is a powerful and versatile language that makes development faster and easier. Perfect for both beginners and experienced developers! 🐍💻 #python #coding #development\"'"
      ]
     },
     "execution_count": 17,
     "metadata": {},
     "output_type": "execute_result"
    }
   ],
   "source": [
    "full_chain.invoke({\"topic\": \"Python\"})"
   ]
  },
  {
   "cell_type": "code",
   "execution_count": 18,
   "metadata": {},
   "outputs": [
    {
     "name": "stdout",
     "output_type": "stream",
     "text": [
      "The End\n"
     ]
    }
   ],
   "source": [
    "print(\"The End\")"
   ]
  }
 ],
 "metadata": {
  "kernelspec": {
   "display_name": "Python 3",
   "language": "python",
   "name": "python3"
  },
  "language_info": {
   "codemirror_mode": {
    "name": "ipython",
    "version": 3
   },
   "file_extension": ".py",
   "mimetype": "text/x-python",
   "name": "python",
   "nbconvert_exporter": "python",
   "pygments_lexer": "ipython3",
   "version": "3.10.17"
  }
 },
 "nbformat": 4,
 "nbformat_minor": 2
}
